{
 "cells": [
  {
   "cell_type": "code",
   "execution_count": 17,
   "metadata": {},
   "outputs": [],
   "source": [
    "import sys\n",
    "import os\n",
    "import re\n",
    "import datetime\n",
    "\n",
    "sys.path.append(os.getcwd())\n",
    "\n",
    "from backend import config\n",
    "from backend.modelClasses import PromptHandler, TranscriptGenerator, TeacherAgent\n",
    "from backend.tts import TTSProcessor\n",
    "from backend.pipeline import load_scenario, format_transcript, run_pipeline\n"
   ]
  },
  {
   "cell_type": "markdown",
   "metadata": {},
   "source": [
    "### Scenario Prep"
   ]
  },
  {
   "cell_type": "code",
   "execution_count": 18,
   "metadata": {},
   "outputs": [],
   "source": [
    "scenario = (\n",
    "    \"A tourist enters a busy cafe and goes up to the counter to order. \"\n",
    "    \"They don't know exactly what to order and want some advice from the server.\"\n",
    ")\n",
    "country_name = \"Colombia\""
   ]
  },
  {
   "cell_type": "markdown",
   "metadata": {},
   "source": [
    "### Transcript Generation"
   ]
  },
  {
   "cell_type": "code",
   "execution_count": 19,
   "metadata": {},
   "outputs": [
    {
     "name": "stdout",
     "output_type": "stream",
     "text": [
      "----- Raw Transcript -----\n",
      "Turista: ¡Hola, ¿me podes orientar qué puede pedir en este café?\n",
      "\n",
      "Ana (server): ¡Claro, ¡tienes muchas opciones! Nosotros tenemos café colombiano de varios tipos, como café con leche, café espresso, y café solo. También tenemos té y Jugos naturales, como naranja, fresa, y piña. ¿Te gusta algo en particular?\n",
      "\n",
      "Turista: No sé, ¿qué es el plato típico aquí en Colombia?\n",
      "\n",
      "Ana: El plato típico de Colombia es el Bandeja Paisa, que incluye carne de res frita, arroz, frijoles, plátano maduro, huevo frito, y arepa. También tenemos empanadas de carne o vegetales. ¿Te gustaría probar uno de esos platos?\n",
      "\n",
      "Turista: Si, por favor, ¿cómo se llama el plato con el huevo y la arepa?\n",
      "\n",
      "Ana: ¡Es un plato llamado Huevo en Arepa! Es muy popular en Colombia y es muy sabroso. ¿Te gustaría probarlo?\n",
      "\n",
      "Turista: ¡Claro, Huevo en Arepa, por favor!\n",
      "\n",
      "Ana: ¡Está orderso! Lo tendré listo en un momento. ¿Tienes alguna otra cosa que deseas pedir?\n",
      "\n",
      "Turista: No, gracias. Estoy muy contento con esto.\n",
      "\n",
      "Ana: ¡Disfruta de tu comida! ¡Tu estás en Colombia!\n"
     ]
    }
   ],
   "source": [
    "# Create the prompt handler and transcript generator instances\n",
    "prompt_handler = PromptHandler(config.SYSTEM_PROMPT_TEMPLATE_PATH)\n",
    "transcript_generator = TranscriptGenerator(config.MODEL_NAME)\n",
    "\n",
    "# Format the prompt and generate the transcript\n",
    "prompt = prompt_handler.format_prompt_scenario(scenario, country_name=country_name)\n",
    "raw_transcript = transcript_generator.generate_transcript(prompt)\n",
    "\n",
    "print(\"----- Raw Transcript -----\")\n",
    "print(raw_transcript)\n"
   ]
  },
  {
   "cell_type": "code",
   "execution_count": 20,
   "metadata": {},
   "outputs": [
    {
     "name": "stdout",
     "output_type": "stream",
     "text": [
      "----- Explained Transcript -----\n",
      "-----\n",
      "Turista: ¡Hola, ¿me podes orientar qué puede pedir en este café?\n",
      "\n",
      "Ana (server): ¡Claro, ¡tienes muchas opciones! Nosotros tenemos café colombiano de varios tipos, como café con leche, café espresso, y café solo. También tenemos té y Jugos naturales, como naranja, fresa, y piña. ¿Te gusta algo en particular?\n",
      "\n",
      "**Maestro:** The tourist is asking for advice on what to order. The server is explaining the different options available, including coffee, tea, and natural juices.\n",
      "\n",
      "Turista: No sé, ¿qué es el plato típico aquí en Colombia?\n",
      "\n",
      "Ana: El plato típico de Colombia es el Bandeja Paisa, que incluye carne de res frita, arroz, frijoles, plátano maduro, huevo frito, y arepa. También tenemos empanadas de carne o vegetales. ¿Te gustaría probar uno de esos platos?\n",
      "\n",
      "**Maestro:** The tourist doesn't know what the typical dish in Colombia is. The server suggests the Bandeja Paisa, a traditional dish that includes fried beef, rice, beans, ripe plantain, fried egg, and arepa. The server also mentions empanadas.\n",
      "\n",
      "Turista: Si, por favor, ¿cómo se llama el plato con el huevo y la arepa?\n",
      "\n",
      "Ana: ¡Es un plato llamado Huevo en Arepa! Es muy popular en Colombia y es muy sabroso. ¿Te gustaría probarlo?\n",
      "\n",
      "**Maestro:** The tourist wants to know the name of the dish with the egg and arepa. The server tells them it's called Huevo en Arepa, a popular and delicious dish in Colombia.\n",
      "\n",
      "Turista: ¡Claro, Huevo en Arepa, por favor!\n",
      "\n",
      "Ana: ¡Está orderso! Lo tendré listo en un momento. ¿Tienes alguna otra cosa que deseas pedir?\n",
      "\n",
      "Turista: No, gracias. Estoy muy contento con esto.\n",
      "\n",
      "Ana: ¡Disfruta de tu comida! ¡Tu estás en Colombia!\n",
      "\n",
      "**Maestro:** The tourist orders Huevo en Arepa. The server confirms the order and asks if the tourist wants anything else. The tourist is satisfied with their choice. The server wishes the tourist to enjoy their food and reminds them they're in Colombia.\n",
      "\n",
      "Lesson Summary:\n",
      "- Vocabulary: café, té, jugos naturales, Bandeja Paisa, empanadas, Huevo en Arepa\n",
      "- Phrase: ¿Te gusta algo en particular? (Do you like something in particular?)\n",
      "- Cultural Takeaway: Colombia is known for its coffee, traditional dishes like Bandeja Paisa, and popular dishes like Huevo en Arepa.\n"
     ]
    }
   ],
   "source": [
    "# Create a TeacherAgent instance with the teacher prompt template\n",
    "teacher_agent = TeacherAgent(\n",
    "    template_path=config.TEACHER_PROMPT_TEMPLATE_PATH,\n",
    "    model_name=config.MODEL_NAME,\n",
    "    temperature=0.2,\n",
    ")\n",
    "\n",
    "# Generate the explained transcript based on the previously generated transcript\n",
    "explained_transcript = teacher_agent.explain_transcript(raw_transcript, scenario, country_name=country_name)\n",
    "\n",
    "print(\"----- Explained Transcript -----\")\n",
    "print(explained_transcript)\n"
   ]
  },
  {
   "cell_type": "code",
   "execution_count": 21,
   "metadata": {},
   "outputs": [],
   "source": [
    "explained_transcript = \"\"\" ----- Explained Transcript -----\n",
    "-----\n",
    "Juan Pablo: ¡Hola! ¿Puedes orientarme una cosa, por favor? No estoy muy familiarizado con los platos Colombia.\n",
    "\n",
    "Maestro: The tourist greets the server and asks for help because they're not familiar with Colombian food.\n",
    "\n",
    "Ana: ¡Claro que sí, amigo! ¿Qué te gustaría probar? Tenemos algunas opciones deliciosas que puedes disfrutar. ¿Te gustaría un café con arepa o quizás un sancocho o una bandeja paisa?\n",
    "\n",
    "Maestro: Ana, the cook, offers the tourist several delicious options, including coffee with an arepa, sancocho, or a bandeja paisa.\n",
    "\n",
    "Juan Pablo: ¿Qué es una bandeja paisa?\n",
    "\n",
    "Maestro: The tourist asks what a bandeja paisa is.\n",
    "\n",
    "Ana: ¡La bandeja paisa es un plato tradicional colombiano que incluye arroz, carne, platano frito y otros ingredientes deliciosos! ¿Te parece bien?\n",
    "\n",
    "Maestro: Ana explains that a bandeja paisa is a traditional Colombian dish that includes rice, meat, fried plantain, and other delicious ingredients.\n",
    "\n",
    "Juan Pablo: ¡Claro! Me gustaría probar una bandeja paisa. ¡Gracias!\n",
    "\n",
    "Maestro: The tourist decides to try the bandeja paisa and thanks Ana.\n",
    "\n",
    "Ana: ¡De nada, amigo! ¡Vente a nuestra mesa más cercana y te la traeré de inmediato! ¡Disfruta!\n",
    "\n",
    "Maestro: Ana tells the tourist to go to the nearest table, and she'll bring the dish right away.\n",
    "...\n",
    "Lesson Summary:\n",
    "- Vocabulary: bandeja paisa, café con arepa, sancocho, platano frito\n",
    "- Grammar: ¿Qué te gustaría probar? (What would you like to try?)\n",
    "- Cultural Takeaway: A bandeja paisa is a traditional Colombian dish that showcases the country's rich culinary heritage. \"\"\""
   ]
  },
  {
   "cell_type": "code",
   "execution_count": 22,
   "metadata": {},
   "outputs": [],
   "source": [
    "unique_id = datetime.datetime.now().strftime(\"%Y%m%d_%H%M%S\")\n",
    "conversation_dir = os.path.join(config.GENERATED_OUTPUT_DIR, unique_id)\n",
    "os.makedirs(conversation_dir, exist_ok=True)\n",
    "final_audio_file = os.path.join(conversation_dir, \"final_conversation.wav\")\n",
    "\n",
    "def custom_format_transcript(transcript_str):\n",
    "    lines = [line.strip() for line in transcript_str.splitlines() if line.strip()]\n",
    "    # Filter out header lines like \"-----\" or any other unwanted lines\n",
    "    return [line for line in lines if not line.startswith(\"-----\")]\n",
    "\n",
    "transcript_lines = custom_format_transcript(explained_transcript)\n"
   ]
  },
  {
   "cell_type": "code",
   "execution_count": 23,
   "metadata": {},
   "outputs": [
    {
     "data": {
      "text/plain": [
       "['Juan Pablo: ¡Hola! ¿Puedes orientarme una cosa, por favor? No estoy muy familiarizado con los platos Colombia.',\n",
       " \"Maestro: The tourist greets the server and asks for help because they're not familiar with Colombian food.\",\n",
       " 'Ana: ¡Claro que sí, amigo! ¿Qué te gustaría probar? Tenemos algunas opciones deliciosas que puedes disfrutar. ¿Te gustaría un café con arepa o quizás un sancocho o una bandeja paisa?',\n",
       " 'Maestro: Ana, the cook, offers the tourist several delicious options, including coffee with an arepa, sancocho, or a bandeja paisa.',\n",
       " 'Juan Pablo: ¿Qué es una bandeja paisa?',\n",
       " 'Maestro: The tourist asks what a bandeja paisa is.',\n",
       " 'Ana: ¡La bandeja paisa es un plato tradicional colombiano que incluye arroz, carne, platano frito y otros ingredientes deliciosos! ¿Te parece bien?',\n",
       " 'Maestro: Ana explains that a bandeja paisa is a traditional Colombian dish that includes rice, meat, fried plantain, and other delicious ingredients.',\n",
       " 'Juan Pablo: ¡Claro! Me gustaría probar una bandeja paisa. ¡Gracias!',\n",
       " 'Maestro: The tourist decides to try the bandeja paisa and thanks Ana.',\n",
       " 'Ana: ¡De nada, amigo! ¡Vente a nuestra mesa más cercana y te la traeré de inmediato! ¡Disfruta!',\n",
       " \"Maestro: Ana tells the tourist to go to the nearest table, and she'll bring the dish right away.\",\n",
       " '...',\n",
       " 'Lesson Summary:',\n",
       " '- Vocabulary: bandeja paisa, café con arepa, sancocho, platano frito',\n",
       " '- Grammar: ¿Qué te gustaría probar? (What would you like to try?)',\n",
       " \"- Cultural Takeaway: A bandeja paisa is a traditional Colombian dish that showcases the country's rich culinary heritage.\"]"
      ]
     },
     "execution_count": 23,
     "metadata": {},
     "output_type": "execute_result"
    }
   ],
   "source": [
    "transcript_lines"
   ]
  },
  {
   "cell_type": "code",
   "execution_count": 24,
   "metadata": {},
   "outputs": [
    {
     "name": "stdout",
     "output_type": "stream",
     "text": [
      "Synthesizing line 1 for 'Juan Pablo'...\n",
      "Synthesizing line 2 for 'Maestro'...\n",
      "Synthesizing line 3 for 'Ana'...\n",
      "Synthesizing line 4 for 'Maestro'...\n",
      "Synthesizing line 5 for 'Juan Pablo'...\n",
      "Synthesizing line 6 for 'Maestro'...\n",
      "Synthesizing line 7 for 'Ana'...\n",
      "Synthesizing line 8 for 'Maestro'...\n",
      "Synthesizing line 9 for 'Juan Pablo'...\n",
      "Synthesizing line 10 for 'Maestro'...\n",
      "Synthesizing line 11 for 'Ana'...\n",
      "Synthesizing line 12 for 'Maestro'...\n",
      "Line 13 is not in expected format: ...\n",
      "Line 14 is not in expected format: Lesson Summary:\n",
      "No speaker id found for '- Vocabulary'. Skipping line 15.\n",
      "No speaker id found for '- Grammar'. Skipping line 16.\n",
      "No speaker id found for '- Cultural Takeaway'. Skipping line 17.\n",
      "Adding ./data/conversations/20250216_143816/line_1.wav to the combined audio...\n",
      "Adding ./data/conversations/20250216_143816/line_2.wav to the combined audio...\n",
      "Adding ./data/conversations/20250216_143816/line_3.wav to the combined audio...\n",
      "Adding ./data/conversations/20250216_143816/line_4.wav to the combined audio...\n",
      "Adding ./data/conversations/20250216_143816/line_5.wav to the combined audio...\n",
      "Adding ./data/conversations/20250216_143816/line_6.wav to the combined audio...\n",
      "Adding ./data/conversations/20250216_143816/line_7.wav to the combined audio...\n",
      "Adding ./data/conversations/20250216_143816/line_8.wav to the combined audio...\n",
      "Adding ./data/conversations/20250216_143816/line_9.wav to the combined audio...\n",
      "Adding ./data/conversations/20250216_143816/line_10.wav to the combined audio...\n",
      "Adding ./data/conversations/20250216_143816/line_11.wav to the combined audio...\n",
      "Adding ./data/conversations/20250216_143816/line_12.wav to the combined audio...\n",
      "Combined audio saved to ./data/conversations/20250216_143816/final_conversation.wav\n",
      "Audio generated for each line, and combined audio saved at:\n",
      "./data/conversations/20250216_143816/final_conversation.wav\n"
     ]
    }
   ],
   "source": [
    "tts_processor = TTSProcessor(api_key=config.ELEVEN_API_KEY)\n",
    "\n",
    "tts_processor.process_transcript(\n",
    "    transcript_lines=transcript_lines,\n",
    "    speaker_voices=config.SPEAKER_VOICES,\n",
    "    output_dir=conversation_dir,\n",
    "    final_audio_file=final_audio_file,\n",
    ")\n",
    "\n",
    "print(\"Audio generated for each line, and combined audio saved at:\")\n",
    "print(final_audio_file)"
   ]
  },
  {
   "cell_type": "code",
   "execution_count": null,
   "metadata": {},
   "outputs": [],
   "source": []
  }
 ],
 "metadata": {
  "kernelspec": {
   "display_name": ".venv",
   "language": "python",
   "name": "python3"
  },
  "language_info": {
   "codemirror_mode": {
    "name": "ipython",
    "version": 3
   },
   "file_extension": ".py",
   "mimetype": "text/x-python",
   "name": "python",
   "nbconvert_exporter": "python",
   "pygments_lexer": "ipython3",
   "version": "3.9.6"
  }
 },
 "nbformat": 4,
 "nbformat_minor": 2
}
