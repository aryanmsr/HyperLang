{
 "cells": [
  {
   "cell_type": "code",
   "execution_count": 1,
   "metadata": {},
   "outputs": [
    {
     "ename": "NameError",
     "evalue": "name 'os' is not defined",
     "output_type": "error",
     "traceback": [
      "\u001b[0;31m---------------------------------------------------------------------------\u001b[0m",
      "\u001b[0;31mNameError\u001b[0m                                 Traceback (most recent call last)",
      "Cell \u001b[0;32mIn[1], line 1\u001b[0m\n\u001b[0;32m----> 1\u001b[0m \u001b[38;5;28mprint\u001b[39m(\u001b[43mos\u001b[49m\u001b[38;5;241m.\u001b[39mgetenv(\u001b[38;5;124m\"\u001b[39m\u001b[38;5;124mELEVEN_API_KEY\u001b[39m\u001b[38;5;124m\"\u001b[39m))\n",
      "\u001b[0;31mNameError\u001b[0m: name 'os' is not defined"
     ]
    }
   ],
   "source": [
    "import os\n",
    "print(os.getenv(\"ELEVEN_API_KEY\"))"
   ]
  },
  {
   "cell_type": "code",
   "execution_count": 1,
   "metadata": {},
   "outputs": [
    {
     "name": "stderr",
     "output_type": "stream",
     "text": [
      "/Users/alex/Desktop/Coding/HyperLang/venv/lib/python3.9/site-packages/urllib3/__init__.py:35: NotOpenSSLWarning: urllib3 v2 only supports OpenSSL 1.1.1+, currently the 'ssl' module is compiled with 'LibreSSL 2.8.3'. See: https://github.com/urllib3/urllib3/issues/3020\n",
      "  warnings.warn(\n",
      "/Users/alex/Desktop/Coding/HyperLang/venv/lib/python3.9/site-packages/tqdm/auto.py:21: TqdmWarning: IProgress not found. Please update jupyter and ipywidgets. See https://ipywidgets.readthedocs.io/en/stable/user_install.html\n",
      "  from .autonotebook import tqdm as notebook_tqdm\n",
      "/Users/alex/Desktop/Coding/HyperLang/venv/lib/python3.9/site-packages/pydub/utils.py:170: RuntimeWarning: Couldn't find ffmpeg or avconv - defaulting to ffmpeg, but may not work\n",
      "  warn(\"Couldn't find ffmpeg or avconv - defaulting to ffmpeg, but may not work\", RuntimeWarning)\n"
     ]
    }
   ],
   "source": [
    "import sys\n",
    "import os\n",
    "import re\n",
    "import datetime\n",
    "\n",
    "sys.path.append(os.getcwd())\n",
    "\n",
    "from backend import config\n",
    "from backend.modelClasses import PromptHandler, TranscriptGenerator, TeacherAgent\n",
    "from backend.tts import TTSProcessor\n",
    "from backend.pipeline import load_scenario, format_transcript, run_pipeline\n"
   ]
  },
  {
   "cell_type": "markdown",
   "metadata": {},
   "source": [
    "### Scenario Prep"
   ]
  },
  {
   "cell_type": "code",
   "execution_count": 2,
   "metadata": {},
   "outputs": [],
   "source": [
    "scenario = (\n",
    "    \"A tourist enters a busy cafe and goes up to the counter to order. \"\n",
    "    \"They don't know exactly what to order and want some advice from the server.\"\n",
    ")\n",
    "country_name = \"Colombia\""
   ]
  },
  {
   "cell_type": "markdown",
   "metadata": {},
   "source": [
    "### Transcript Generation"
   ]
  },
  {
   "cell_type": "code",
   "execution_count": 3,
   "metadata": {},
   "outputs": [
    {
     "name": "stdout",
     "output_type": "stream",
     "text": [
      "----- Raw Transcript -----\n",
      "Juan Pablo, el turista, se acerca a la barra del café y dice:\n",
      "\n",
      "Juan Pablo: ¡Hola! ¿Puedes ayudarme a ordenar algo, por favor?\n",
      "\n",
      "Ana, la camarera, le enoja la pregunta y responde:\n",
      "\n",
      "Ana: ¡Claro que sí! ¿Qué deseas probar hoy? Tenemos café colombiano, postres tradicionales y sándwiches.\n",
      "\n",
      "Juan Pablo se confunda y responde:\n",
      "\n",
      "Juan Pablo: ¿Qué es lo mejor que probar en este café?\n",
      "\n",
      "Ana, con una sonrisa, le sugiere algo:\n",
      "\n",
      "Ana: Me encanta el almojábana con café. Es un postre tradicional que te encantará. También podrías probar el sándwich de carne asada o el café colombiano con leche y azúcar.\n",
      "\n",
      "Juan Pablo, agradecido, ordena:\n",
      "\n",
      "Juan Pablo: ¡Muchas gracias, Ana! Me gustaría un almojábana con café, por favor.\n",
      "\n",
      "Ana le prepara el plato y les desean un buen día.\n",
      "\n",
      "Ana: ¡Disfruta tu almojábana! ¡Saludos y buen día!\n",
      "\n",
      "Juan Pablo, feliz, se va a sentarse a comer su postre.\n"
     ]
    }
   ],
   "source": [
    "# Create the prompt handler and transcript generator instances\n",
    "prompt_handler = PromptHandler(config.SYSTEM_PROMPT_TEMPLATE_PATH)\n",
    "transcript_generator = TranscriptGenerator(config.MODEL_NAME)\n",
    "\n",
    "# Format the prompt and generate the transcript\n",
    "prompt = prompt_handler.format_prompt_scenario(scenario, country_name=country_name)\n",
    "raw_transcript = transcript_generator.generate_transcript(prompt)\n",
    "\n",
    "print(\"----- Raw Transcript -----\")\n",
    "print(raw_transcript)\n"
   ]
  },
  {
   "cell_type": "code",
   "execution_count": 4,
   "metadata": {},
   "outputs": [
    {
     "name": "stdout",
     "output_type": "stream",
     "text": [
      "----- Explained Transcript -----\n",
      "-----\n",
      "Juan Pablo, the tourist, approaches the café counter and says:\n",
      "\n",
      "Juan Pablo: ¡Hola! ¿Puedes ayudarme a ordenar algo, por favor?\n",
      "\n",
      "Maestro: Juan Pablo is asking the server for help ordering something. He's a bit lost and wants some advice.\n",
      "\n",
      "Ana, the server, seems annoyed by the question and responds:\n",
      "\n",
      "Ana: ¡Claro que sí! ¿Qué deseas probar hoy? Tenemos café colombiano, postres tradicionales y sándwiches.\n",
      "\n",
      "Maestro: Ana is asking Juan Pablo what he'd like to try today. She mentions the café's Colombian coffee, traditional desserts, and sandwiches.\n",
      "\n",
      "Juan Pablo gets confused and asks:\n",
      "\n",
      "Juan Pablo: ¿Qué es lo mejor que probar en este café?\n",
      "\n",
      "Maestro: Juan Pablo is asking Ana what the best thing to try at this café is.\n",
      "\n",
      "Ana, with a smile, suggests something:\n",
      "\n",
      "Ana: Me encanta el almojábana con café. Es un postre tradicional que te encantará. También podrías probar el sándwich de carne asada o el café colombiano con leche y azúcar.\n",
      "\n",
      "Maestro: Ana recommends the almojábana with coffee, a traditional dessert she loves. She also suggests a sandwich or Colombian coffee with milk and sugar.\n",
      "\n",
      "Juan Pablo, grateful, orders:\n",
      "\n",
      "Juan Pablo: ¡Muchas gracias, Ana! Me gustaría un almojábana con café, por favor.\n",
      "\n",
      "Ana prepares the dish and wishes them a good day.\n",
      "\n",
      "Ana: ¡Disfruta tu almojábana! ¡Saludos y buen día!\n",
      "\n",
      "Juan Pablo, happy, goes to sit and eat his dessert.\n",
      "-----\n",
      "\n",
      "Maestro: Great job! You understood the conversation and even used some Spanish yourself. Here are some key takeaways:\n",
      "\n",
      "* \"Puedes ayudarme\" means \"can you help me.\"\n",
      "* \"Qué deseas probar\" translates to \"what would you like to try.\"\n",
      "* \"Me encanta\" means \"I love.\"\n",
      "* \"Almojábana con café\" is a traditional Colombian dessert with coffee.\n",
      "* \"Saludos\" means \"greetings\" and is often used to say goodbye.\n",
      "\n",
      "Keep practicing, and remember to enjoy the process! ¡Buena suerte!\n"
     ]
    }
   ],
   "source": [
    "# Create a TeacherAgent instance with the teacher prompt template\n",
    "teacher_agent = TeacherAgent(\n",
    "    template_path=config.TEACHER_PROMPT_TEMPLATE_PATH,\n",
    "    model_name=config.MODEL_NAME,\n",
    "    temperature=0.2,\n",
    ")\n",
    "\n",
    "# Generate the explained transcript based on the previously generated transcript\n",
    "explained_transcript = teacher_agent.explain_transcript(raw_transcript, scenario, country_name=country_name)\n",
    "\n",
    "print(\"----- Explained Transcript -----\")\n",
    "print(explained_transcript)\n"
   ]
  },
  {
   "cell_type": "code",
   "execution_count": 5,
   "metadata": {},
   "outputs": [],
   "source": [
    "explained_transcript = \"\"\" ----- Explained Transcript -----\n",
    "-----\n",
    "Juan Pablo: ¡Hola! ¿Puedes orientarme una cosa, por favor? No estoy muy familiarizado con los platos Colombia.\n",
    "\n",
    "Maestro: The tourist greets the server and asks for help because they're not familiar with Colombian food.\n",
    "\n",
    "Ana: ¡Claro que sí, amigo! ¿Qué te gustaría probar? Tenemos algunas opciones deliciosas que puedes disfrutar. ¿Te gustaría un café con arepa o quizás un sancocho o una bandeja paisa?\n",
    "\n",
    "Maestro: Ana, the cook, offers the tourist several delicious options, including coffee with an arepa, sancocho, or a bandeja paisa.\n",
    "\n",
    "Juan Pablo: ¿Qué es una bandeja paisa?\n",
    "\n",
    "Maestro: The tourist asks what a bandeja paisa is.\n",
    "\n",
    "Ana: ¡La bandeja paisa es un plato tradicional colombiano que incluye arroz, carne, platano frito y otros ingredientes deliciosos! ¿Te parece bien?\n",
    "\n",
    "Maestro: Ana explains that a bandeja paisa is a traditional Colombian dish that includes rice, meat, fried plantain, and other delicious ingredients.\n",
    "\n",
    "Juan Pablo: ¡Claro! Me gustaría probar una bandeja paisa. ¡Gracias!\n",
    "\n",
    "Maestro: The tourist decides to try the bandeja paisa and thanks Ana.\n",
    "\n",
    "Ana: ¡De nada, amigo! ¡Vente a nuestra mesa más cercana y te la traeré de inmediato! ¡Disfruta!\n",
    "\n",
    "Maestro: Ana tells the tourist to go to the nearest table, and she'll bring the dish right away.\n",
    "...\n",
    "Lesson Summary:\n",
    "- Vocabulary: bandeja paisa, café con arepa, sancocho, platano frito\n",
    "- Grammar: ¿Qué te gustaría probar? (What would you like to try?)\n",
    "- Cultural Takeaway: A bandeja paisa is a traditional Colombian dish that showcases the country's rich culinary heritage. \"\"\""
   ]
  },
  {
   "cell_type": "code",
   "execution_count": 6,
   "metadata": {},
   "outputs": [],
   "source": [
    "unique_id = datetime.datetime.now().strftime(\"%Y%m%d_%H%M%S\")\n",
    "conversation_dir = os.path.join(config.GENERATED_OUTPUT_DIR, unique_id)\n",
    "os.makedirs(conversation_dir, exist_ok=True)\n",
    "final_audio_file = os.path.join(conversation_dir, \"final_conversation.wav\")\n",
    "\n",
    "def custom_format_transcript(transcript_str):\n",
    "    lines = [line.strip() for line in transcript_str.splitlines() if line.strip()]\n",
    "    # Filter out header lines like \"-----\" or any other unwanted lines\n",
    "    return [line for line in lines if not line.startswith(\"-----\")]\n",
    "\n",
    "transcript_lines = custom_format_transcript(explained_transcript)\n"
   ]
  },
  {
   "cell_type": "code",
   "execution_count": 7,
   "metadata": {},
   "outputs": [
    {
     "data": {
      "text/plain": [
       "['Juan Pablo: ¡Hola! ¿Puedes orientarme una cosa, por favor? No estoy muy familiarizado con los platos Colombia.',\n",
       " \"Maestro: The tourist greets the server and asks for help because they're not familiar with Colombian food.\",\n",
       " 'Ana: ¡Claro que sí, amigo! ¿Qué te gustaría probar? Tenemos algunas opciones deliciosas que puedes disfrutar. ¿Te gustaría un café con arepa o quizás un sancocho o una bandeja paisa?',\n",
       " 'Maestro: Ana, the cook, offers the tourist several delicious options, including coffee with an arepa, sancocho, or a bandeja paisa.',\n",
       " 'Juan Pablo: ¿Qué es una bandeja paisa?',\n",
       " 'Maestro: The tourist asks what a bandeja paisa is.',\n",
       " 'Ana: ¡La bandeja paisa es un plato tradicional colombiano que incluye arroz, carne, platano frito y otros ingredientes deliciosos! ¿Te parece bien?',\n",
       " 'Maestro: Ana explains that a bandeja paisa is a traditional Colombian dish that includes rice, meat, fried plantain, and other delicious ingredients.',\n",
       " 'Juan Pablo: ¡Claro! Me gustaría probar una bandeja paisa. ¡Gracias!',\n",
       " 'Maestro: The tourist decides to try the bandeja paisa and thanks Ana.',\n",
       " 'Ana: ¡De nada, amigo! ¡Vente a nuestra mesa más cercana y te la traeré de inmediato! ¡Disfruta!',\n",
       " \"Maestro: Ana tells the tourist to go to the nearest table, and she'll bring the dish right away.\",\n",
       " '...',\n",
       " 'Lesson Summary:',\n",
       " '- Vocabulary: bandeja paisa, café con arepa, sancocho, platano frito',\n",
       " '- Grammar: ¿Qué te gustaría probar? (What would you like to try?)',\n",
       " \"- Cultural Takeaway: A bandeja paisa is a traditional Colombian dish that showcases the country's rich culinary heritage.\"]"
      ]
     },
     "execution_count": 7,
     "metadata": {},
     "output_type": "execute_result"
    }
   ],
   "source": [
    "transcript_lines"
   ]
  },
  {
   "cell_type": "code",
   "execution_count": 8,
   "metadata": {},
   "outputs": [
    {
     "name": "stdout",
     "output_type": "stream",
     "text": [
      "Synthesizing line 1 for 'Juan Pablo'...\n"
     ]
    },
    {
     "ename": "ApiError",
     "evalue": "status_code: 401, body: {'detail': {'status': 'needs_authorization', 'message': 'Neither authorization header nor xi-api-key received, please provide one.'}}",
     "output_type": "error",
     "traceback": [
      "\u001b[0;31m---------------------------------------------------------------------------\u001b[0m",
      "\u001b[0;31mApiError\u001b[0m                                  Traceback (most recent call last)",
      "Cell \u001b[0;32mIn[8], line 3\u001b[0m\n\u001b[1;32m      1\u001b[0m tts_processor \u001b[38;5;241m=\u001b[39m TTSProcessor(api_key\u001b[38;5;241m=\u001b[39mconfig\u001b[38;5;241m.\u001b[39mELEVEN_API_KEY)\n\u001b[0;32m----> 3\u001b[0m \u001b[43mtts_processor\u001b[49m\u001b[38;5;241;43m.\u001b[39;49m\u001b[43mprocess_transcript\u001b[49m\u001b[43m(\u001b[49m\n\u001b[1;32m      4\u001b[0m \u001b[43m    \u001b[49m\u001b[43mtranscript_lines\u001b[49m\u001b[38;5;241;43m=\u001b[39;49m\u001b[43mtranscript_lines\u001b[49m\u001b[43m,\u001b[49m\n\u001b[1;32m      5\u001b[0m \u001b[43m    \u001b[49m\u001b[43mspeaker_voices\u001b[49m\u001b[38;5;241;43m=\u001b[39;49m\u001b[43mconfig\u001b[49m\u001b[38;5;241;43m.\u001b[39;49m\u001b[43mSPEAKER_VOICES\u001b[49m\u001b[43m,\u001b[49m\n\u001b[1;32m      6\u001b[0m \u001b[43m    \u001b[49m\u001b[43moutput_dir\u001b[49m\u001b[38;5;241;43m=\u001b[39;49m\u001b[43mconversation_dir\u001b[49m\u001b[43m,\u001b[49m\n\u001b[1;32m      7\u001b[0m \u001b[43m    \u001b[49m\u001b[43mfinal_audio_file\u001b[49m\u001b[38;5;241;43m=\u001b[39;49m\u001b[43mfinal_audio_file\u001b[49m\u001b[43m,\u001b[49m\n\u001b[1;32m      8\u001b[0m \u001b[43m)\u001b[49m\n\u001b[1;32m     10\u001b[0m \u001b[38;5;28mprint\u001b[39m(\u001b[38;5;124m\"\u001b[39m\u001b[38;5;124mAudio generated for each line, and combined audio saved at:\u001b[39m\u001b[38;5;124m\"\u001b[39m)\n\u001b[1;32m     11\u001b[0m \u001b[38;5;28mprint\u001b[39m(final_audio_file)\n",
      "File \u001b[0;32m~/Desktop/Coding/HyperLang/backend/tts.py:99\u001b[0m, in \u001b[0;36mTTSProcessor.process_transcript\u001b[0;34m(self, transcript_lines, speaker_voices, output_dir, final_audio_file)\u001b[0m\n\u001b[1;32m     97\u001b[0m     wav_path \u001b[38;5;241m=\u001b[39m os\u001b[38;5;241m.\u001b[39mpath\u001b[38;5;241m.\u001b[39mjoin(output_dir, \u001b[38;5;124mf\u001b[39m\u001b[38;5;124m\"\u001b[39m\u001b[38;5;124mline_\u001b[39m\u001b[38;5;132;01m{\u001b[39;00midx\u001b[38;5;132;01m}\u001b[39;00m\u001b[38;5;124m.wav\u001b[39m\u001b[38;5;124m\"\u001b[39m)\n\u001b[1;32m     98\u001b[0m     \u001b[38;5;28mprint\u001b[39m(\u001b[38;5;124mf\u001b[39m\u001b[38;5;124m\"\u001b[39m\u001b[38;5;124mSynthesizing line \u001b[39m\u001b[38;5;132;01m{\u001b[39;00midx\u001b[38;5;132;01m}\u001b[39;00m\u001b[38;5;124m for \u001b[39m\u001b[38;5;124m'\u001b[39m\u001b[38;5;132;01m{\u001b[39;00mspeaker\u001b[38;5;132;01m}\u001b[39;00m\u001b[38;5;124m'\u001b[39m\u001b[38;5;124m...\u001b[39m\u001b[38;5;124m\"\u001b[39m)\n\u001b[0;32m---> 99\u001b[0m     \u001b[38;5;28;43mself\u001b[39;49m\u001b[38;5;241;43m.\u001b[39;49m\u001b[43msynthesize_speech\u001b[49m\u001b[43m(\u001b[49m\u001b[43mtext\u001b[49m\u001b[43m,\u001b[49m\u001b[43m \u001b[49m\u001b[43mspeaker_id\u001b[49m\u001b[43m,\u001b[49m\u001b[43m \u001b[49m\u001b[43mmp3_path\u001b[49m\u001b[43m)\u001b[49m\n\u001b[1;32m    100\u001b[0m     \u001b[38;5;28mself\u001b[39m\u001b[38;5;241m.\u001b[39mconvert_mp3_to_wav(mp3_path, wav_path)\n\u001b[1;32m    102\u001b[0m \u001b[38;5;28mself\u001b[39m\u001b[38;5;241m.\u001b[39mcombine_audio_files(output_dir, final_audio_file)\n",
      "File \u001b[0;32m~/Desktop/Coding/HyperLang/backend/tts.py:38\u001b[0m, in \u001b[0;36mTTSProcessor.synthesize_speech\u001b[0;34m(self, text, speaker_id, output_path)\u001b[0m\n\u001b[1;32m     29\u001b[0m \u001b[38;5;250m\u001b[39m\u001b[38;5;124;03m\"\"\"\u001b[39;00m\n\u001b[1;32m     30\u001b[0m \u001b[38;5;124;03mGenerate audio from text using ElevenLabs API and save it as an MP3 file.\u001b[39;00m\n\u001b[1;32m     31\u001b[0m \u001b[38;5;124;03m\"\"\"\u001b[39;00m\n\u001b[1;32m     32\u001b[0m audio \u001b[38;5;241m=\u001b[39m \u001b[38;5;28mself\u001b[39m\u001b[38;5;241m.\u001b[39mclient\u001b[38;5;241m.\u001b[39mtext_to_speech\u001b[38;5;241m.\u001b[39mconvert(\n\u001b[1;32m     33\u001b[0m     voice_id\u001b[38;5;241m=\u001b[39mspeaker_id,\n\u001b[1;32m     34\u001b[0m     output_format\u001b[38;5;241m=\u001b[39m\u001b[38;5;124m\"\u001b[39m\u001b[38;5;124mmp3_44100_128\u001b[39m\u001b[38;5;124m\"\u001b[39m,\n\u001b[1;32m     35\u001b[0m     text\u001b[38;5;241m=\u001b[39mtext,\n\u001b[1;32m     36\u001b[0m     model_id\u001b[38;5;241m=\u001b[39m\u001b[38;5;28mself\u001b[39m\u001b[38;5;241m.\u001b[39mmodel_id,\n\u001b[1;32m     37\u001b[0m )\n\u001b[0;32m---> 38\u001b[0m \u001b[43msave\u001b[49m\u001b[43m(\u001b[49m\u001b[43maudio\u001b[49m\u001b[43m,\u001b[49m\u001b[43m \u001b[49m\u001b[43moutput_path\u001b[49m\u001b[43m)\u001b[49m\n",
      "File \u001b[0;32m~/Desktop/Coding/HyperLang/venv/lib/python3.9/site-packages/elevenlabs/play.py:64\u001b[0m, in \u001b[0;36msave\u001b[0;34m(audio, filename)\u001b[0m\n\u001b[1;32m     62\u001b[0m \u001b[38;5;28;01mdef\u001b[39;00m\u001b[38;5;250m \u001b[39m\u001b[38;5;21msave\u001b[39m(audio: Union[\u001b[38;5;28mbytes\u001b[39m, Iterator[\u001b[38;5;28mbytes\u001b[39m]], filename: \u001b[38;5;28mstr\u001b[39m) \u001b[38;5;241m-\u001b[39m\u001b[38;5;241m>\u001b[39m \u001b[38;5;28;01mNone\u001b[39;00m:\n\u001b[1;32m     63\u001b[0m     \u001b[38;5;28;01mif\u001b[39;00m \u001b[38;5;28misinstance\u001b[39m(audio, Iterator):\n\u001b[0;32m---> 64\u001b[0m         audio \u001b[38;5;241m=\u001b[39m \u001b[38;5;124;43mb\u001b[39;49m\u001b[38;5;124;43m\"\u001b[39;49m\u001b[38;5;124;43m\"\u001b[39;49m\u001b[38;5;241;43m.\u001b[39;49m\u001b[43mjoin\u001b[49m\u001b[43m(\u001b[49m\u001b[43maudio\u001b[49m\u001b[43m)\u001b[49m\n\u001b[1;32m     65\u001b[0m     \u001b[38;5;28;01mwith\u001b[39;00m \u001b[38;5;28mopen\u001b[39m(filename, \u001b[38;5;124m\"\u001b[39m\u001b[38;5;124mwb\u001b[39m\u001b[38;5;124m\"\u001b[39m) \u001b[38;5;28;01mas\u001b[39;00m f:\n\u001b[1;32m     66\u001b[0m         f\u001b[38;5;241m.\u001b[39mwrite(audio)\n",
      "File \u001b[0;32m~/Desktop/Coding/HyperLang/venv/lib/python3.9/site-packages/elevenlabs/text_to_speech/client.py:201\u001b[0m, in \u001b[0;36mTextToSpeechClient.convert\u001b[0;34m(self, voice_id, text, enable_logging, optimize_streaming_latency, output_format, model_id, language_code, voice_settings, pronunciation_dictionary_locators, seed, previous_text, next_text, previous_request_ids, next_request_ids, use_pvc_as_ivc, apply_text_normalization, request_options)\u001b[0m\n\u001b[1;32m    199\u001b[0m \u001b[38;5;28;01mexcept\u001b[39;00m JSONDecodeError:\n\u001b[1;32m    200\u001b[0m     \u001b[38;5;28;01mraise\u001b[39;00m ApiError(status_code\u001b[38;5;241m=\u001b[39m_response\u001b[38;5;241m.\u001b[39mstatus_code, body\u001b[38;5;241m=\u001b[39m_response\u001b[38;5;241m.\u001b[39mtext)\n\u001b[0;32m--> 201\u001b[0m \u001b[38;5;28;01mraise\u001b[39;00m ApiError(status_code\u001b[38;5;241m=\u001b[39m_response\u001b[38;5;241m.\u001b[39mstatus_code, body\u001b[38;5;241m=\u001b[39m_response_json)\n",
      "\u001b[0;31mApiError\u001b[0m: status_code: 401, body: {'detail': {'status': 'needs_authorization', 'message': 'Neither authorization header nor xi-api-key received, please provide one.'}}"
     ]
    }
   ],
   "source": [
    "tts_processor = TTSProcessor(api_key=config.ELEVEN_API_KEY)\n",
    "\n",
    "tts_processor.process_transcript(\n",
    "    transcript_lines=transcript_lines,\n",
    "    speaker_voices=config.SPEAKER_VOICES,\n",
    "    output_dir=conversation_dir,\n",
    "    final_audio_file=final_audio_file,\n",
    ")\n",
    "\n",
    "print(\"Audio generated for each line, and combined audio saved at:\")\n",
    "print(final_audio_file)"
   ]
  },
  {
   "cell_type": "code",
   "execution_count": null,
   "metadata": {},
   "outputs": [],
   "source": []
  }
 ],
 "metadata": {
  "kernelspec": {
   "display_name": ".venv",
   "language": "python",
   "name": "python3"
  },
  "language_info": {
   "codemirror_mode": {
    "name": "ipython",
    "version": 3
   },
   "file_extension": ".py",
   "mimetype": "text/x-python",
   "name": "python",
   "nbconvert_exporter": "python",
   "pygments_lexer": "ipython3",
   "version": "3.9.6"
  }
 },
 "nbformat": 4,
 "nbformat_minor": 2
}
