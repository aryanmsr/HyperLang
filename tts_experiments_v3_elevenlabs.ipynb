{
 "cells": [
  {
   "cell_type": "code",
   "execution_count": 1,
   "metadata": {},
   "outputs": [
    {
     "name": "stderr",
     "output_type": "stream",
     "text": [
      "/Users/aryanmishra/Desktop/HyperLang/.venv/lib/python3.9/site-packages/tqdm/auto.py:21: TqdmWarning: IProgress not found. Please update jupyter and ipywidgets. See https://ipywidgets.readthedocs.io/en/stable/user_install.html\n",
      "  from .autonotebook import tqdm as notebook_tqdm\n"
     ]
    }
   ],
   "source": [
    "import sys\n",
    "import os\n",
    "import re\n",
    "import datetime\n",
    "\n",
    "sys.path.append(os.getcwd())\n",
    "\n",
    "from app import config\n",
    "from app.modelClasses import PromptHandler, TranscriptGenerator, TeacherAgent\n",
    "from app.tts import TTSProcessor\n",
    "from app.pipeline import load_scenario, format_transcript, run_pipeline\n"
   ]
  },
  {
   "cell_type": "markdown",
   "metadata": {},
   "source": [
    "### Scenario Prep"
   ]
  },
  {
   "cell_type": "code",
   "execution_count": 2,
   "metadata": {},
   "outputs": [],
   "source": [
    "scenario = (\n",
    "    \"A tourist enters a busy cafe and goes up to the counter to order. \"\n",
    "    \"They don't know exactly what to order and want some advice from the server.\"\n",
    ")\n",
    "country_name = \"Colombia\""
   ]
  },
  {
   "cell_type": "markdown",
   "metadata": {},
   "source": [
    "### Transcript Generation"
   ]
  },
  {
   "cell_type": "code",
   "execution_count": 3,
   "metadata": {},
   "outputs": [
    {
     "name": "stdout",
     "output_type": "stream",
     "text": [
      "----- Raw Transcript -----\n",
      "Carácter 1 (Turista): ¡Hola! ¿Puedes orientarme una cosa, por favor? No estoy muy familiarizado con los platos Colombia.\n",
      "\n",
      "Carácter 2 (Ana, la cocinera): ¡Claro que sí, amigo! ¿Qué te gustaría probar? Tenemos algunas opciones deliciosas que puedes disfrutar. ¿Te gustaría un café con arepa o quizás un sancocho o una bandeja paisa?\n",
      "\n",
      "Carácter 1 (Turista): ¿Qué es una bandeja paisa?\n",
      "\n",
      "Carácter 2 (Ana, la cocinera): ¡La bandeja paisa es un plato tradicional colombiano que incluye arroz, carne, platano frito y otros ingredientes deliciosos! ¿Te parece bien?\n",
      "\n",
      "Carácter 1 (Turista): ¡Claro! Me gustaría probar una bandeja paisa. ¡Gracias!\n",
      "\n",
      "Carácter 2 (Ana, la cocinera): ¡De nada, amigo! ¡Vente a nuestra mesa más cercana y te la traeré de inmediato! ¡Disfruta!\n",
      "\n",
      "Carácter 1 (Turista): ¡Muchas gracias, Ana!\n",
      "\n",
      "Carácter 2 (Ana, la cocinera): ¡De nada! ¡Vuelve pronto!\n",
      "\n",
      "En este intercambio, el turista se acerca a un café en Colombia y se encuentra con Ana, una cocinera local. El turista no se siente muy familiarizado con los platos tradicionales de Colombia y le pregunta a Ana por su orientación. Ana le ofrece algunas opciones, entre ellas una bandeja paisa, que es un plato tradicional del país. El turista se interesa por la bandeja paisa y Ana le prepara el plato. El turista le agradece a Ana y se dispone a disfrutar su comida.\n"
     ]
    }
   ],
   "source": [
    "# Create the prompt handler and transcript generator instances\n",
    "prompt_handler = PromptHandler(config.SYSTEM_PROMPT_TEMPLATE_PATH)\n",
    "transcript_generator = TranscriptGenerator(config.MODEL_NAME)\n",
    "\n",
    "# Format the prompt and generate the transcript\n",
    "prompt = prompt_handler.format_prompt_scenario(scenario, country_name=country_name)\n",
    "raw_transcript = transcript_generator.generate_transcript(prompt)\n",
    "\n",
    "print(\"----- Raw Transcript -----\")\n",
    "print(raw_transcript)\n"
   ]
  },
  {
   "cell_type": "code",
   "execution_count": 4,
   "metadata": {},
   "outputs": [
    {
     "name": "stdout",
     "output_type": "stream",
     "text": [
      "----- Explained Transcript -----\n",
      "-----\n",
      "Carácter 1 (Turista): ¡Hola! ¿Puedes orientarme una cosa, por favor? No estoy muy familiarizado con los platos Colombia.\n",
      "\n",
      "Maestro: The tourist greets the server and asks for help because they're not familiar with Colombian food.\n",
      "\n",
      "Carácter 2 (Ana, la cocinera): ¡Claro que sí, amigo! ¿Qué te gustaría probar? Tenemos algunas opciones deliciosas que puedes disfrutar. ¿Te gustaría un café con arepa o quizás un sancocho o una bandeja paisa?\n",
      "\n",
      "Maestro: Ana, the cook, offers the tourist several delicious options, including coffee with an arepa, sancocho, or a bandeja paisa.\n",
      "\n",
      "Carácter 1 (Turista): ¿Qué es una bandeja paisa?\n",
      "\n",
      "Maestro: The tourist asks what a bandeja paisa is.\n",
      "\n",
      "Carácter 2 (Ana, la cocinera): ¡La bandeja paisa es un plato tradicional colombiano que incluye arroz, carne, platano frito y otros ingredientes deliciosos! ¿Te parece bien?\n",
      "\n",
      "Maestro: Ana explains that a bandeja paisa is a traditional Colombian dish that includes rice, meat, fried plantain, and other delicious ingredients.\n",
      "\n",
      "Carácter 1 (Turista): ¡Claro! Me gustaría probar una bandeja paisa. ¡Gracias!\n",
      "\n",
      "Maestro: The tourist decides to try the bandeja paisa and thanks Ana.\n",
      "\n",
      "Carácter 2 (Ana, la cocinera): ¡De nada, amigo! ¡Vente a nuestra mesa más cercana y te la traeré de inmediato! ¡Disfruta!\n",
      "\n",
      "Maestro: Ana tells the tourist to go to the nearest table, and she'll bring the dish right away.\n",
      "\n",
      "Carácter 1 (Turista): ¡Muchas gracias, Ana!\n",
      "\n",
      "Maestro: The tourist thanks Ana again.\n",
      "\n",
      "Carácter 2 (Ana, la cocinera): ¡De nada! ¡Vuelve pronto!\n",
      "\n",
      "Maestro: Ana wishes the tourist to come back soon.\n",
      "\n",
      "Lesson Summary:\n",
      "- Vocabulary: bandeja paisa, café con arepa, sancocho, platano frito\n",
      "- Grammar: ¿Qué te gustaría probar? (What would you like to try?)\n",
      "- Cultural Takeaway: A bandeja paisa is a traditional Colombian dish that showcases the country's rich culinary heritage.\n"
     ]
    }
   ],
   "source": [
    "# Create a TeacherAgent instance with the teacher prompt template\n",
    "teacher_agent = TeacherAgent(\n",
    "    template_path=config.TEACHER_PROMPT_TEMPLATE_PATH,\n",
    "    model_name=config.MODEL_NAME,\n",
    "    temperature=0.2,\n",
    ")\n",
    "\n",
    "# Generate the explained transcript based on the previously generated transcript\n",
    "explained_transcript = teacher_agent.explain_transcript(raw_transcript, scenario, country_name=country_name)\n",
    "\n",
    "print(\"----- Explained Transcript -----\")\n",
    "print(explained_transcript)\n"
   ]
  },
  {
   "cell_type": "code",
   "execution_count": 5,
   "metadata": {},
   "outputs": [],
   "source": [
    "explained_transcript = \"\"\" ----- Explained Transcript -----\n",
    "-----\n",
    "Juan Pablo: ¡Hola! ¿Puedes orientarme una cosa, por favor? No estoy muy familiarizado con los platos Colombia.\n",
    "\n",
    "Maestro: The tourist greets the server and asks for help because they're not familiar with Colombian food.\n",
    "\n",
    "Ana: ¡Claro que sí, amigo! ¿Qué te gustaría probar? Tenemos algunas opciones deliciosas que puedes disfrutar. ¿Te gustaría un café con arepa o quizás un sancocho o una bandeja paisa?\n",
    "\n",
    "Maestro: Ana, the cook, offers the tourist several delicious options, including coffee with an arepa, sancocho, or a bandeja paisa.\n",
    "\n",
    "Juan Pablo: ¿Qué es una bandeja paisa?\n",
    "\n",
    "Maestro: The tourist asks what a bandeja paisa is.\n",
    "\n",
    "Ana: ¡La bandeja paisa es un plato tradicional colombiano que incluye arroz, carne, platano frito y otros ingredientes deliciosos! ¿Te parece bien?\n",
    "\n",
    "Maestro: Ana explains that a bandeja paisa is a traditional Colombian dish that includes rice, meat, fried plantain, and other delicious ingredients.\n",
    "\n",
    "Juan Pablo: ¡Claro! Me gustaría probar una bandeja paisa. ¡Gracias!\n",
    "\n",
    "Maestro: The tourist decides to try the bandeja paisa and thanks Ana.\n",
    "\n",
    "Ana: ¡De nada, amigo! ¡Vente a nuestra mesa más cercana y te la traeré de inmediato! ¡Disfruta!\n",
    "\n",
    "Maestro: Ana tells the tourist to go to the nearest table, and she'll bring the dish right away.\n",
    "...\n",
    "Lesson Summary:\n",
    "- Vocabulary: bandeja paisa, café con arepa, sancocho, platano frito\n",
    "- Grammar: ¿Qué te gustaría probar? (What would you like to try?)\n",
    "- Cultural Takeaway: A bandeja paisa is a traditional Colombian dish that showcases the country's rich culinary heritage. \"\"\""
   ]
  },
  {
   "cell_type": "code",
   "execution_count": 6,
   "metadata": {},
   "outputs": [],
   "source": [
    "unique_id = datetime.datetime.now().strftime(\"%Y%m%d_%H%M%S\")\n",
    "conversation_dir = os.path.join(config.GENERATED_OUTPUT_DIR, unique_id)\n",
    "os.makedirs(conversation_dir, exist_ok=True)\n",
    "final_audio_file = os.path.join(conversation_dir, \"final_conversation.wav\")\n",
    "\n",
    "def custom_format_transcript(transcript_str):\n",
    "    lines = [line.strip() for line in transcript_str.splitlines() if line.strip()]\n",
    "    # Filter out header lines like \"-----\" or any other unwanted lines\n",
    "    return [line for line in lines if not line.startswith(\"-----\")]\n",
    "\n",
    "transcript_lines = custom_format_transcript(explained_transcript)\n"
   ]
  },
  {
   "cell_type": "code",
   "execution_count": 7,
   "metadata": {},
   "outputs": [
    {
     "data": {
      "text/plain": [
       "['Juan Pablo: ¡Hola! ¿Puedes orientarme una cosa, por favor? No estoy muy familiarizado con los platos Colombia.',\n",
       " \"Maestro: The tourist greets the server and asks for help because they're not familiar with Colombian food.\",\n",
       " 'Ana: ¡Claro que sí, amigo! ¿Qué te gustaría probar? Tenemos algunas opciones deliciosas que puedes disfrutar. ¿Te gustaría un café con arepa o quizás un sancocho o una bandeja paisa?',\n",
       " 'Maestro: Ana, the cook, offers the tourist several delicious options, including coffee with an arepa, sancocho, or a bandeja paisa.',\n",
       " 'Juan Pablo: ¿Qué es una bandeja paisa?',\n",
       " 'Maestro: The tourist asks what a bandeja paisa is.',\n",
       " 'Ana: ¡La bandeja paisa es un plato tradicional colombiano que incluye arroz, carne, platano frito y otros ingredientes deliciosos! ¿Te parece bien?',\n",
       " 'Maestro: Ana explains that a bandeja paisa is a traditional Colombian dish that includes rice, meat, fried plantain, and other delicious ingredients.',\n",
       " 'Juan Pablo: ¡Claro! Me gustaría probar una bandeja paisa. ¡Gracias!',\n",
       " 'Maestro: The tourist decides to try the bandeja paisa and thanks Ana.',\n",
       " 'Ana: ¡De nada, amigo! ¡Vente a nuestra mesa más cercana y te la traeré de inmediato! ¡Disfruta!',\n",
       " \"Maestro: Ana tells the tourist to go to the nearest table, and she'll bring the dish right away.\",\n",
       " '...',\n",
       " 'Lesson Summary:',\n",
       " '- Vocabulary: bandeja paisa, café con arepa, sancocho, platano frito',\n",
       " '- Grammar: ¿Qué te gustaría probar? (What would you like to try?)',\n",
       " \"- Cultural Takeaway: A bandeja paisa is a traditional Colombian dish that showcases the country's rich culinary heritage.\"]"
      ]
     },
     "execution_count": 7,
     "metadata": {},
     "output_type": "execute_result"
    }
   ],
   "source": [
    "transcript_lines"
   ]
  },
  {
   "cell_type": "code",
   "execution_count": 8,
   "metadata": {},
   "outputs": [
    {
     "name": "stdout",
     "output_type": "stream",
     "text": [
      "Synthesizing line 1 for 'Juan Pablo'...\n",
      "Synthesizing line 2 for 'Maestro'...\n",
      "Synthesizing line 3 for 'Ana'...\n",
      "Synthesizing line 4 for 'Maestro'...\n",
      "Synthesizing line 5 for 'Juan Pablo'...\n",
      "Synthesizing line 6 for 'Maestro'...\n",
      "Synthesizing line 7 for 'Ana'...\n",
      "Synthesizing line 8 for 'Maestro'...\n",
      "Synthesizing line 9 for 'Juan Pablo'...\n",
      "Synthesizing line 10 for 'Maestro'...\n",
      "Synthesizing line 11 for 'Ana'...\n",
      "Synthesizing line 12 for 'Maestro'...\n",
      "Line 13 is not in expected format: ...\n",
      "Line 14 is not in expected format: Lesson Summary:\n",
      "No speaker id found for '- Vocabulary'. Skipping line 15.\n",
      "No speaker id found for '- Grammar'. Skipping line 16.\n",
      "No speaker id found for '- Cultural Takeaway'. Skipping line 17.\n",
      "Adding ./data/conversations/20250216_120559/line_1.wav to the combined audio...\n",
      "Adding ./data/conversations/20250216_120559/line_2.wav to the combined audio...\n",
      "Adding ./data/conversations/20250216_120559/line_3.wav to the combined audio...\n",
      "Adding ./data/conversations/20250216_120559/line_4.wav to the combined audio...\n",
      "Adding ./data/conversations/20250216_120559/line_5.wav to the combined audio...\n",
      "Adding ./data/conversations/20250216_120559/line_6.wav to the combined audio...\n",
      "Adding ./data/conversations/20250216_120559/line_7.wav to the combined audio...\n",
      "Adding ./data/conversations/20250216_120559/line_8.wav to the combined audio...\n",
      "Adding ./data/conversations/20250216_120559/line_9.wav to the combined audio...\n",
      "Adding ./data/conversations/20250216_120559/line_10.wav to the combined audio...\n",
      "Adding ./data/conversations/20250216_120559/line_11.wav to the combined audio...\n",
      "Adding ./data/conversations/20250216_120559/line_12.wav to the combined audio...\n",
      "Combined audio saved to ./data/conversations/20250216_120559/final_conversation.wav\n",
      "Audio generated for each line, and combined audio saved at:\n",
      "./data/conversations/20250216_120559/final_conversation.wav\n"
     ]
    }
   ],
   "source": [
    "tts_processor = TTSProcessor(api_key=config.ELEVEN_API_KEY)\n",
    "\n",
    "tts_processor.process_transcript(\n",
    "    transcript_lines=transcript_lines,\n",
    "    speaker_voices=config.SPEAKER_VOICES,\n",
    "    output_dir=conversation_dir,\n",
    "    final_audio_file=final_audio_file,\n",
    ")\n",
    "\n",
    "print(\"Audio generated for each line, and combined audio saved at:\")\n",
    "print(final_audio_file)"
   ]
  },
  {
   "cell_type": "code",
   "execution_count": null,
   "metadata": {},
   "outputs": [],
   "source": []
  }
 ],
 "metadata": {
  "kernelspec": {
   "display_name": ".venv",
   "language": "python",
   "name": "python3"
  },
  "language_info": {
   "codemirror_mode": {
    "name": "ipython",
    "version": 3
   },
   "file_extension": ".py",
   "mimetype": "text/x-python",
   "name": "python",
   "nbconvert_exporter": "python",
   "pygments_lexer": "ipython3",
   "version": "3.9.6"
  }
 },
 "nbformat": 4,
 "nbformat_minor": 2
}
