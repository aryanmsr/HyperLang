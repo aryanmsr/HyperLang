{
 "cells": [
  {
   "cell_type": "code",
   "execution_count": 1,
   "metadata": {},
   "outputs": [],
   "source": [
    "import os\n",
    "import re\n",
    "from dotenv import load_dotenv\n",
    "from elevenlabs import ElevenLabs, save\n",
    "from pydub import AudioSegment"
   ]
  },
  {
   "cell_type": "code",
   "execution_count": 2,
   "metadata": {},
   "outputs": [],
   "source": [
    "load_dotenv()\n",
    "api_key = os.getenv('ELEVEN_API_KEY')\n",
    "client = ElevenLabs(api_key=api_key)\n",
    "\n",
    "dialogue = [\n",
    "    'Juan Pablo: Hola, ¿puedes darme alguna recomendación sobre lo que ordenar?',\n",
    "    'Ana: ¡Claro, qué deseas probar hoy? Tenemos un burrito con carne de res, un arepa con queso y una torta de guayaba.',\n",
    "    'Maestro: Juan Pablo is asking for a recommendation on what to order. Ana is offering three options: a beef burrito, a cheese arepa, and a guava tart.',\n",
    "    'Juan Pablo: Eso sí, ¿cómo es el burrito con carne?',\n",
    "    'Ana: Es uno de nuestros platos más populares. Tiene carne de res, arroz, frijoles negros y salsa verde.',\n",
    "    \"Maestro: Juan Pablo wants to know about the beef burrito. Ana explains that it's one of their most popular dishes, containing beef, rice, black beans, and green sauce.\",\n",
    "    'Juan Pablo: Perfecto, lo tomaré. ¿Y si me lo traes con un refresco de piña?',\n",
    "    'Ana: Claro, nosotros también tenemos un refresco de maracuyá. ¿Te gustaría probarlo?',\n",
    "    'Juan Pablo: ¡Claro! Lo pediré, entonces.',\n",
    "    'Ana: Muy bien. ¡Gracias por elegir nuestro café!',\n",
    "    \"Maestro: Juan Pablo orders the beef burrito with a pineapple drink and also asks for a taste of the maracuyá drink. Ana confirms the order and thanks him for choosing their café.\",\n",
    "    'Ana: Aquí está tu pedido, señor Juan Pablo. Disfruta!',\n",
    "    'Juan Pablo: Muchas gracias, Ana. ¡Espero volver pronto!',\n",
    "    'Ana: Es un placer tenerte aquí, ¡vuelve siempre!',\n",
    "    'Maestro: Juan Pablo now starts eating and enjoying his order. Once he finishes, he gets up and leaves the place.'\n",
    "]"
   ]
  },
  {
   "cell_type": "code",
   "execution_count": 3,
   "metadata": {},
   "outputs": [],
   "source": [
    "speaker_voices = {\n",
    "    \"Juan Pablo\": \"Ux2YbCNfurnKHnzlBHGX\",\n",
    "    \"Ana\": \"86V9x9hrQds83qf7zaGn\",\n",
    "    \"Maestro\": \"JBFqnCBsd6RMkjVDRZzb\"\n",
    "}\n",
    "\n",
    "def synthesize_speech(text, speaker_id, output_path, model_id='eleven_flash_v2_5'):\n",
    "    \"\"\"Generate audio from text using ElevenLabs API and save it to a file.\"\"\"\n",
    "    audio = client.text_to_speech.convert(\n",
    "        voice_id=speaker_id,\n",
    "        output_format=\"mp3_44100_128\",\n",
    "        text=text,\n",
    "        model_id=model_id\n",
    "    )\n",
    "    save(audio, output_path)\n",
    "\n",
    "\n",
    "def convert_mp3_to_wav(mp3_path, wav_path):\n",
    "    \"\"\"Convert an MP3 file to WAV using pydub.\"\"\"\n",
    "    audio = AudioSegment.from_mp3(mp3_path)\n",
    "    audio.export(wav_path, format=\"wav\")\n",
    "\n",
    "def combine_audio_with_pauses(input_dir, output_file, pause_duration_ms=800):\n",
    "    \"\"\"Combine multiple WAV audio files with pauses in between into a single audio file.\"\"\"\n",
    "    \n",
    "    # List all WAV files and filter out any that don't match the expected pattern\n",
    "    audio_files = []\n",
    "    for f in os.listdir(input_dir):\n",
    "        if f.endswith(\".wav\"):\n",
    "            match = re.search(r\"line_(\\d+)\", f)\n",
    "            if match:\n",
    "                audio_files.append((int(match.group(1)), os.path.join(input_dir, f)))\n",
    "            else:\n",
    "                print(f\"Skipping unexpected file: {f}\")\n",
    "\n",
    "    # Sort by line number\n",
    "    audio_files.sort()\n",
    "\n",
    "    # Create a silent segment for pauses\n",
    "    pause = AudioSegment.silent(duration=pause_duration_ms)\n",
    "\n",
    "    # Initialize an empty audio segment\n",
    "    combined_audio = AudioSegment.empty()\n",
    "\n",
    "    # Concatenate each audio file with pauses\n",
    "    for _, audio_file in audio_files:\n",
    "        print(f\"Adding {audio_file} to the combined audio...\")\n",
    "        audio_segment = AudioSegment.from_wav(audio_file)\n",
    "        combined_audio += audio_segment + pause\n",
    "\n",
    "    # Remove the final pause\n",
    "    combined_audio = combined_audio[:-pause_duration_ms]\n",
    "\n",
    "    # Export the combined audio\n",
    "    combined_audio.export(output_file, format=\"wav\")\n",
    "    print(f\"Combined audio saved to {output_file}\")"
   ]
  },
  {
   "cell_type": "code",
   "execution_count": 4,
   "metadata": {},
   "outputs": [
    {
     "name": "stdout",
     "output_type": "stream",
     "text": [
      "Skipping unexpected file: final_conversation.wav\n",
      "Adding ./data/elevenlabs/line_1.wav to the combined audio...\n",
      "Adding ./data/elevenlabs/line_2.wav to the combined audio...\n",
      "Adding ./data/elevenlabs/line_3.wav to the combined audio...\n",
      "Adding ./data/elevenlabs/line_4.wav to the combined audio...\n",
      "Adding ./data/elevenlabs/line_5.wav to the combined audio...\n",
      "Adding ./data/elevenlabs/line_6.wav to the combined audio...\n",
      "Adding ./data/elevenlabs/line_7.wav to the combined audio...\n",
      "Adding ./data/elevenlabs/line_8.wav to the combined audio...\n",
      "Adding ./data/elevenlabs/line_9.wav to the combined audio...\n",
      "Adding ./data/elevenlabs/line_10.wav to the combined audio...\n",
      "Adding ./data/elevenlabs/line_11.wav to the combined audio...\n",
      "Adding ./data/elevenlabs/line_12.wav to the combined audio...\n",
      "Adding ./data/elevenlabs/line_13.wav to the combined audio...\n",
      "Adding ./data/elevenlabs/line_14.wav to the combined audio...\n",
      "Adding ./data/elevenlabs/line_15.wav to the combined audio...\n",
      "Combined audio saved to ./data/elevenlabs/final_conversation.wav\n"
     ]
    }
   ],
   "source": [
    "output_dir = \"./data/elevenlabs/\"\n",
    "os.makedirs(output_dir, exist_ok=True)\n",
    "\n",
    "# Generate audio files line by line and convert them to WAV\n",
    "for i, line in enumerate(dialogue):\n",
    "    speaker, text = line.split(\": \", 1)\n",
    "    mp3_path = os.path.join(output_dir, f\"line_{i+1}.mp3\")\n",
    "    wav_path = os.path.join(output_dir, f\"line_{i+1}.wav\")\n",
    "    \n",
    "    speaker_id = speaker_voices.get(speaker)\n",
    "    if speaker_id:\n",
    "        # Generate the audio in MP3 format\n",
    "        synthesize_speech(text, speaker_id=speaker_id, output_path=mp3_path)\n",
    "        convert_mp3_to_wav(mp3_path, wav_path)\n",
    "\n",
    "combine_audio_with_pauses(input_dir=output_dir, output_file=\"./data/elevenlabs/final_conversation.wav\")"
   ]
  }
 ],
 "metadata": {
  "kernelspec": {
   "display_name": ".venv",
   "language": "python",
   "name": "python3"
  },
  "language_info": {
   "codemirror_mode": {
    "name": "ipython",
    "version": 3
   },
   "file_extension": ".py",
   "mimetype": "text/x-python",
   "name": "python",
   "nbconvert_exporter": "python",
   "pygments_lexer": "ipython3",
   "version": "3.9.6"
  }
 },
 "nbformat": 4,
 "nbformat_minor": 2
}
