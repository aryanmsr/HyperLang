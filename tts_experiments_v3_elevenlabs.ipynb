{
 "cells": [
  {
   "cell_type": "code",
   "execution_count": 13,
   "metadata": {},
   "outputs": [],
   "source": [
    "import sys\n",
    "import os\n",
    "import re\n",
    "import datetime\n",
    "\n",
    "sys.path.append(os.getcwd())\n",
    "\n",
    "from backend import config\n",
    "from backend.modelClasses import PromptHandler, LLMWrapper, TeacherAgent\n",
    "from backend.tts import TTSProcessor\n",
    "from backend.pipeline import load_scenario, format_transcript, run_pipeline\n"
   ]
  },
  {
   "cell_type": "markdown",
   "metadata": {},
   "source": [
    "### Scenario Prep"
   ]
  },
  {
   "cell_type": "code",
   "execution_count": 14,
   "metadata": {},
   "outputs": [],
   "source": [
    "scenario = (\n",
    "    \"A tourist enters a busy cafe and goes up to the counter to order. \"\n",
    "    \"They don't know exactly what to order and want some advice from the server.\"\n",
    ")\n",
    "country_name = \"Colombia\""
   ]
  },
  {
   "cell_type": "markdown",
   "metadata": {},
   "source": [
    "### Transcript Generation"
   ]
  },
  {
   "cell_type": "code",
   "execution_count": 15,
   "metadata": {},
   "outputs": [
    {
     "name": "stdout",
     "output_type": "stream",
     "text": [
      "----- Raw Transcript -----\n",
      "Ana (cafe server): ¡Hola! ¿Qué podemos hacer por usted hoy?\n",
      "\n",
      "Camila (tourist): Hola, Ana. Eso es, no estoy muy familiarizado con tu menú. ¿Tienes alguna recomendación para un desayuno refrescante?\n",
      "\n",
      "Ana: Sí, claro! Te recomiendo el cholado con fresa. Es un delicioso refresco de frutas naturales con hielo y crema. ¿Te gustaría probarlo?\n",
      "\n",
      "Camila: ¡Claro que sí! Me lo compraré, gracias.\n",
      "\n",
      "Ana: ¿Qué más podemos hacer por usted hoy? ¿Tiene alguna otra necesidad?\n",
      "\n",
      "Camila: No, gracias. El cholado con fresa me parece perfecto.\n",
      "\n",
      "Ana: ¡Vale! ¡Te espero pronto!\n",
      "\n",
      "Camila: ¡Gracias, Ana! ¡Tengo una buena esperanza de este desayuno!\n",
      "\n",
      "Ana: ¡Saludos a Colombia y buen provecho!\n",
      "\n",
      "Camila: ¡Gracias, Ana! ¡Adiós!\n"
     ]
    }
   ],
   "source": [
    "# Create the prompt handler and transcript generator instances\n",
    "prompt_handler = PromptHandler(config.SYSTEM_PROMPT_TEMPLATE_PATH)\n",
    "transcript_generator = LLMWrapper(config.MODEL_NAME)\n",
    "\n",
    "# Format the prompt and generate the transcript using keyword arguments\n",
    "prompt = prompt_handler.format_prompt(scenario=scenario, country_name=country_name)\n",
    "raw_transcript = transcript_generator.generate(prompt)\n",
    "\n",
    "print(\"----- Raw Transcript -----\")\n",
    "print(raw_transcript)\n"
   ]
  },
  {
   "cell_type": "code",
   "execution_count": 16,
   "metadata": {},
   "outputs": [
    {
     "name": "stdout",
     "output_type": "stream",
     "text": [
      "----- Explained Transcript -----\n",
      "-----\n",
      "Ana (cafe server): ¡Hola! ¿Qué podemos hacer por usted hoy?\n",
      "\n",
      "Maestro: Ana greets the tourist with a friendly \"Hello!\" and asks what they can do for her today.\n",
      "\n",
      "Camila (tourist): Hola, Ana. Eso es, no estoy muy familiarizado con tu menú. ¿Tienes alguna recomendación para un desayuno refrescante?\n",
      "\n",
      "Maestro: Camila introduces herself to Ana and explains that she's not familiar with the menu. She asks for a recommendation for a refreshing breakfast.\n",
      "\n",
      "Ana: Sí, claro! Te recomiendo el cholado con fresa. Es un delicioso refresco de frutas naturales con hielo y crema. ¿Te gustaría probarlo?\n",
      "\n",
      "Maestro: Ana recommends the cholado with strawberries, a refreshing fruit shake with ice and cream. She asks if Camila would like to try it.\n",
      "\n",
      "Camila: ¡Claro que sí! Me lo compraré, gracias.\n",
      "\n",
      "Maestro: Camila agrees to buy the cholado with strawberries and thanks Ana.\n",
      "\n",
      "Ana: ¿Qué más podemos hacer por usted hoy? ¿Tiene alguna otra necesidad?\n",
      "\n",
      "Maestro: Ana asks if there's anything else she can do for Camila.\n",
      "\n",
      "Camila: No, gracias. El cholado con fresa me parece perfecto.\n",
      "\n",
      "Maestro: Camila says she doesn't need anything else, as the strawberry cholado seems perfect to her.\n",
      "\n",
      "Ana: ¡Vale! ¡Te espero pronto!\n",
      "\n",
      "Maestro: Ana says she'll be right back.\n",
      "\n",
      "Camila: ¡Gracias, Ana! ¡Tengo una buena esperanza de este desayuno!\n",
      "\n",
      "Maestro: Camila thanks Ana and expresses her hope for a good breakfast.\n",
      "\n",
      "Ana: ¡Saludos a Colombia y buen provecho!\n",
      "\n",
      "Maestro: Ana wishes Camila a good meal and farewell, mentioning Colombia.\n",
      "\n",
      "Camila: ¡Gracias, Ana! ¡Adiós!\n",
      "\n",
      "Maestro: Camila thanks Ana and says goodbye.\n",
      "\n",
      "Lesson Summary:\n",
      "- Greeting: ¡Hola! (Hello!)\n",
      "- Polite expressions: Eso es (That is), No estoy muy familiarizado (I'm not very familiar with), ¿Tienes alguna recomendación? (Do you have any recommendation?), Me lo compraré (I'll buy it), ¿Qué más podemos hacer por usted hoy? (What else can we do for you today?), No, gracias (No, thanks), El cholado con fresa me parece perfecto (The strawberry cholado seems perfect to me), ¡Saludos a Colombia y buen provecho! (Greetings to Colombia and enjoy your meal!)\n",
      "- Vocabulary: cholado (fruit shake), fresa (strawberry), hielo (ice), crema (cream), desayuno (breakfast), necesidad (need), adiós (goodbye)\n",
      "- Phrase structure: Subject + Verb + Object (e.g., Ana recomienda el cholado con fresa)\n",
      "- Cultural note: Cholados are a popular and refreshing breakfast option in Colombia, especially during hot weather.\n"
     ]
    }
   ],
   "source": [
    "# Create the teacher agent instance\n",
    "teacher_agent = TeacherAgent(\n",
    "    template_path=config.TEACHER_PROMPT_TEMPLATE_PATH,\n",
    "    model_name=config.MODEL_NAME,\n",
    "    temperature=0.2,\n",
    ")\n",
    "\n",
    "# Generate the explained transcript using keyword arguments for additional context\n",
    "explained_transcript = teacher_agent.explain(\n",
    "    raw_transcript, \n",
    "    scenario=scenario, \n",
    "    country_name=country_name\n",
    ")\n",
    "\n",
    "print(\"----- Explained Transcript -----\")\n",
    "print(explained_transcript)\n"
   ]
  },
  {
   "cell_type": "code",
   "execution_count": 17,
   "metadata": {},
   "outputs": [],
   "source": [
    "##TODO: Need to create a logic that will re-format this transcript and also infer the characters and map it to a speaker ID. Also need to create logic that will include music."
   ]
  },
  {
   "cell_type": "code",
   "execution_count": 18,
   "metadata": {},
   "outputs": [],
   "source": [
    "explained_transcript = \"\"\" ----- Explained Transcript -----\n",
    "-----\n",
    "Juan Pablo: ¡Hola! ¿Puedes orientarme una cosa, por favor? No estoy muy familiarizado con los platos Colombia.\n",
    "\n",
    "Maestro: The tourist greets the server and asks for help because they're not familiar with Colombian food.\n",
    "\n",
    "Ana: ¡Claro que sí, amigo! ¿Qué te gustaría probar? Tenemos algunas opciones deliciosas que puedes disfrutar. ¿Te gustaría un café con arepa o quizás un sancocho o una bandeja paisa?\n",
    "\n",
    "Maestro: Ana, the cook, offers the tourist several delicious options, including coffee with an arepa, sancocho, or a bandeja paisa.\n",
    "\n",
    "Juan Pablo: ¿Qué es una bandeja paisa?\n",
    "\n",
    "Maestro: The tourist asks what a bandeja paisa is.\n",
    "\n",
    "Ana: ¡La bandeja paisa es un plato tradicional colombiano que incluye arroz, carne, platano frito y otros ingredientes deliciosos! ¿Te parece bien?\n",
    "\n",
    "Maestro: Ana explains that a bandeja paisa is a traditional Colombian dish that includes rice, meat, fried plantain, and other delicious ingredients.\n",
    "\n",
    "Juan Pablo: ¡Claro! Me gustaría probar una bandeja paisa. ¡Gracias!\n",
    "\n",
    "Maestro: The tourist decides to try the bandeja paisa and thanks Ana.\n",
    "\n",
    "Ana: ¡De nada, amigo! ¡Vente a nuestra mesa más cercana y te la traeré de inmediato! ¡Disfruta!\n",
    "\n",
    "Maestro: Ana tells the tourist to go to the nearest table, and she'll bring the dish right away.\n",
    "...\n",
    "Lesson Summary:\n",
    "- Vocabulary: bandeja paisa, café con arepa, sancocho, platano frito\n",
    "- Grammar: ¿Qué te gustaría probar? (What would you like to try?)\n",
    "- Cultural Takeaway: A bandeja paisa is a traditional Colombian dish that showcases the country's rich culinary heritage. \"\"\""
   ]
  },
  {
   "cell_type": "code",
   "execution_count": 19,
   "metadata": {},
   "outputs": [],
   "source": [
    "unique_id = datetime.datetime.now().strftime(\"%Y%m%d_%H%M%S\")\n",
    "conversation_dir = os.path.join(config.GENERATED_OUTPUT_DIR, unique_id)\n",
    "os.makedirs(conversation_dir, exist_ok=True)\n",
    "final_audio_file = os.path.join(conversation_dir, \"final_conversation.wav\")\n",
    "\n",
    "def custom_format_transcript(transcript_str):\n",
    "    lines = [line.strip() for line in transcript_str.splitlines() if line.strip()]\n",
    "    # Filter out header lines like \"-----\" or any other unwanted lines\n",
    "    return [line for line in lines if not line.startswith(\"-----\")]\n",
    "\n",
    "transcript_lines = custom_format_transcript(explained_transcript)\n"
   ]
  },
  {
   "cell_type": "code",
   "execution_count": 20,
   "metadata": {},
   "outputs": [
    {
     "data": {
      "text/plain": [
       "['Juan Pablo: ¡Hola! ¿Puedes orientarme una cosa, por favor? No estoy muy familiarizado con los platos Colombia.',\n",
       " \"Maestro: The tourist greets the server and asks for help because they're not familiar with Colombian food.\",\n",
       " 'Ana: ¡Claro que sí, amigo! ¿Qué te gustaría probar? Tenemos algunas opciones deliciosas que puedes disfrutar. ¿Te gustaría un café con arepa o quizás un sancocho o una bandeja paisa?',\n",
       " 'Maestro: Ana, the cook, offers the tourist several delicious options, including coffee with an arepa, sancocho, or a bandeja paisa.',\n",
       " 'Juan Pablo: ¿Qué es una bandeja paisa?',\n",
       " 'Maestro: The tourist asks what a bandeja paisa is.',\n",
       " 'Ana: ¡La bandeja paisa es un plato tradicional colombiano que incluye arroz, carne, platano frito y otros ingredientes deliciosos! ¿Te parece bien?',\n",
       " 'Maestro: Ana explains that a bandeja paisa is a traditional Colombian dish that includes rice, meat, fried plantain, and other delicious ingredients.',\n",
       " 'Juan Pablo: ¡Claro! Me gustaría probar una bandeja paisa. ¡Gracias!',\n",
       " 'Maestro: The tourist decides to try the bandeja paisa and thanks Ana.',\n",
       " 'Ana: ¡De nada, amigo! ¡Vente a nuestra mesa más cercana y te la traeré de inmediato! ¡Disfruta!',\n",
       " \"Maestro: Ana tells the tourist to go to the nearest table, and she'll bring the dish right away.\",\n",
       " '...',\n",
       " 'Lesson Summary:',\n",
       " '- Vocabulary: bandeja paisa, café con arepa, sancocho, platano frito',\n",
       " '- Grammar: ¿Qué te gustaría probar? (What would you like to try?)',\n",
       " \"- Cultural Takeaway: A bandeja paisa is a traditional Colombian dish that showcases the country's rich culinary heritage.\"]"
      ]
     },
     "execution_count": 20,
     "metadata": {},
     "output_type": "execute_result"
    }
   ],
   "source": [
    "transcript_lines"
   ]
  },
  {
   "cell_type": "code",
   "execution_count": 21,
   "metadata": {},
   "outputs": [
    {
     "name": "stdout",
     "output_type": "stream",
     "text": [
      "Synthesizing line 1 for 'Juan Pablo'...\n",
      "Synthesizing line 2 for 'Maestro'...\n",
      "Synthesizing line 3 for 'Ana'...\n",
      "Synthesizing line 4 for 'Maestro'...\n",
      "Synthesizing line 5 for 'Juan Pablo'...\n",
      "Synthesizing line 6 for 'Maestro'...\n",
      "Synthesizing line 7 for 'Ana'...\n",
      "Synthesizing line 8 for 'Maestro'...\n",
      "Synthesizing line 9 for 'Juan Pablo'...\n",
      "Synthesizing line 10 for 'Maestro'...\n",
      "Synthesizing line 11 for 'Ana'...\n",
      "Synthesizing line 12 for 'Maestro'...\n",
      "Line 13 is not in expected format: ...\n",
      "Line 14 is not in expected format: Lesson Summary:\n",
      "No speaker id found for '- Vocabulary'. Skipping line 15.\n",
      "No speaker id found for '- Grammar'. Skipping line 16.\n",
      "No speaker id found for '- Cultural Takeaway'. Skipping line 17.\n",
      "Adding ./data/conversations/20250226_222913/line_1.wav to the combined audio...\n",
      "Adding ./data/conversations/20250226_222913/line_2.wav to the combined audio...\n",
      "Adding ./data/conversations/20250226_222913/line_3.wav to the combined audio...\n",
      "Adding ./data/conversations/20250226_222913/line_4.wav to the combined audio...\n",
      "Adding ./data/conversations/20250226_222913/line_5.wav to the combined audio...\n",
      "Adding ./data/conversations/20250226_222913/line_6.wav to the combined audio...\n",
      "Adding ./data/conversations/20250226_222913/line_7.wav to the combined audio...\n",
      "Adding ./data/conversations/20250226_222913/line_8.wav to the combined audio...\n",
      "Adding ./data/conversations/20250226_222913/line_9.wav to the combined audio...\n",
      "Adding ./data/conversations/20250226_222913/line_10.wav to the combined audio...\n",
      "Adding ./data/conversations/20250226_222913/line_11.wav to the combined audio...\n",
      "Adding ./data/conversations/20250226_222913/line_12.wav to the combined audio...\n",
      "Combined audio saved to ./data/conversations/20250226_222913/final_conversation.wav\n",
      "Audio generated for each line, and combined audio saved at:\n",
      "./data/conversations/20250226_222913/final_conversation.wav\n"
     ]
    }
   ],
   "source": [
    "tts_processor = TTSProcessor(api_key=config.ELEVEN_API_KEY)\n",
    "\n",
    "tts_processor.process_transcript(\n",
    "    transcript_lines=transcript_lines,\n",
    "    speaker_voices=config.SPEAKER_VOICES,\n",
    "    output_dir=conversation_dir,\n",
    "    final_audio_file=final_audio_file,\n",
    ")\n",
    "\n",
    "print(\"Audio generated for each line, and combined audio saved at:\")\n",
    "print(final_audio_file)"
   ]
  },
  {
   "cell_type": "code",
   "execution_count": null,
   "metadata": {},
   "outputs": [],
   "source": []
  }
 ],
 "metadata": {
  "kernelspec": {
   "display_name": ".venv",
   "language": "python",
   "name": "python3"
  },
  "language_info": {
   "codemirror_mode": {
    "name": "ipython",
    "version": 3
   },
   "file_extension": ".py",
   "mimetype": "text/x-python",
   "name": "python",
   "nbconvert_exporter": "python",
   "pygments_lexer": "ipython3",
   "version": "3.9.6"
  }
 },
 "nbformat": 4,
 "nbformat_minor": 2
}
