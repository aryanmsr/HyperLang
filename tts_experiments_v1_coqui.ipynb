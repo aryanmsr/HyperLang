{
 "cells": [
  {
   "cell_type": "code",
   "execution_count": 1,
   "metadata": {},
   "outputs": [],
   "source": [
    "from TTS.api import TTS"
   ]
  },
  {
   "cell_type": "code",
   "execution_count": 29,
   "metadata": {},
   "outputs": [],
   "source": [
    "import noisereduce as nr\n",
    "import librosa\n",
    "import soundfile as sf"
   ]
  },
  {
   "cell_type": "code",
   "execution_count": 17,
   "metadata": {},
   "outputs": [],
   "source": [
    "import os\n",
    "import torch"
   ]
  },
  {
   "cell_type": "code",
   "execution_count": 4,
   "metadata": {},
   "outputs": [
    {
     "name": "stdout",
     "output_type": "stream",
     "text": [
      "<TTS.utils.manage.ModelManager object at 0x1077e07c0>\n"
     ]
    }
   ],
   "source": [
    "# Get device\n",
    "device = \"cuda\" if torch.cuda.is_available() else \"cpu\"\n",
    "\n",
    "# List available 🐸TTS models\n",
    "print(TTS().list_models())"
   ]
  },
  {
   "cell_type": "code",
   "execution_count": 5,
   "metadata": {},
   "outputs": [
    {
     "name": "stdout",
     "output_type": "stream",
     "text": [
      " > You must confirm the following:\n",
      " | > \"I have purchased a commercial license from Coqui: licensing@coqui.ai\"\n",
      " | > \"Otherwise, I agree to the terms of the non-commercial CPML: https://coqui.ai/cpml\" - [y/n]\n",
      " > Downloading model to /Users/aryanmishra/Library/Application Support/tts/tts_models--multilingual--multi-dataset--xtts_v2\n"
     ]
    },
    {
     "name": "stderr",
     "output_type": "stream",
     "text": [
      "100%|██████████| 1.87G/1.87G [02:25<00:00, 12.9MiB/s]\n",
      "100%|██████████| 4.37k/4.37k [00:00<00:00, 10.4kiB/s]\n",
      "100%|██████████| 361k/361k [00:00<00:00, 805kiB/s]\n",
      "100%|██████████| 32.0/32.0 [00:00<00:00, 58.3iB/s]\n",
      " 79%|███████▉  | 6.16M/7.75M [00:00<00:00, 9.51MiB/s]/Users/aryanmishra/Desktop/HyperLang/.venv/lib/python3.9/site-packages/tqdm/auto.py:21: TqdmWarning: IProgress not found. Please update jupyter and ipywidgets. See https://ipywidgets.readthedocs.io/en/stable/user_install.html\n",
      "  from .autonotebook import tqdm as notebook_tqdm\n"
     ]
    },
    {
     "name": "stdout",
     "output_type": "stream",
     "text": [
      " > Model's license - CPML\n",
      " > Check https://coqui.ai/cpml.txt for more info.\n"
     ]
    },
    {
     "name": "stderr",
     "output_type": "stream",
     "text": [
      "100%|██████████| 7.75M/7.75M [00:13<00:00, 9.51MiB/s]"
     ]
    },
    {
     "name": "stdout",
     "output_type": "stream",
     "text": [
      " > Using model: xtts\n"
     ]
    },
    {
     "name": "stderr",
     "output_type": "stream",
     "text": [
      "/Users/aryanmishra/Desktop/HyperLang/.venv/lib/python3.9/site-packages/TTS/tts/layers/xtts/xtts_manager.py:5: FutureWarning: You are using `torch.load` with `weights_only=False` (the current default value), which uses the default pickle module implicitly. It is possible to construct malicious pickle data which will execute arbitrary code during unpickling (See https://github.com/pytorch/pytorch/blob/main/SECURITY.md#untrusted-models for more details). In a future release, the default value for `weights_only` will be flipped to `True`. This limits the functions that could be executed during unpickling. Arbitrary objects will no longer be allowed to be loaded via this mode unless they are explicitly allowlisted by the user via `torch.serialization.add_safe_globals`. We recommend you start setting `weights_only=True` for any use case where you don't have full control of the loaded file. Please open an issue on GitHub for any issues related to this experimental feature.\n",
      "  self.speakers = torch.load(speaker_file_path)\n",
      "/Users/aryanmishra/Desktop/HyperLang/.venv/lib/python3.9/site-packages/TTS/utils/io.py:54: FutureWarning: You are using `torch.load` with `weights_only=False` (the current default value), which uses the default pickle module implicitly. It is possible to construct malicious pickle data which will execute arbitrary code during unpickling (See https://github.com/pytorch/pytorch/blob/main/SECURITY.md#untrusted-models for more details). In a future release, the default value for `weights_only` will be flipped to `True`. This limits the functions that could be executed during unpickling. Arbitrary objects will no longer be allowed to be loaded via this mode unless they are explicitly allowlisted by the user via `torch.serialization.add_safe_globals`. We recommend you start setting `weights_only=True` for any use case where you don't have full control of the loaded file. Please open an issue on GitHub for any issues related to this experimental feature.\n",
      "  return torch.load(f, map_location=map_location, **kwargs)\n",
      "GPT2InferenceModel has generative capabilities, as `prepare_inputs_for_generation` is explicitly overwritten. However, it doesn't directly inherit from `GenerationMixin`. From 👉v4.50👈 onwards, `PreTrainedModel` will NOT inherit from `GenerationMixin`, and this model will lose the ability to call `generate` and other related functions.\n",
      "  - If you're using `trust_remote_code=True`, you can get rid of this warning by loading the model with an auto class. See https://huggingface.co/docs/transformers/en/model_doc/auto#auto-classes\n",
      "  - If you are the owner of the model architecture code, please modify your model class such that it inherits from `GenerationMixin` (after `PreTrainedModel`, otherwise you'll get an exception).\n",
      "  - If you are not the owner of the model architecture class, please contact the model code owner to update it.\n"
     ]
    }
   ],
   "source": [
    "tts = TTS(\"tts_models/multilingual/multi-dataset/xtts_v2\").to(device)"
   ]
  },
  {
   "cell_type": "code",
   "execution_count": 12,
   "metadata": {},
   "outputs": [],
   "source": [
    "sample_audio_file = \"./data/reference_audios/medellin_sample_1.wav\""
   ]
  },
  {
   "cell_type": "code",
   "execution_count": 13,
   "metadata": {},
   "outputs": [
    {
     "name": "stdout",
     "output_type": "stream",
     "text": [
      " > Text splitted to sentences.\n",
      "['¡Claro, qué deseas probar hoy?', 'Tenemos un burrito con carne de res, un arepa con queso y una torta de guayaba.']\n",
      " > Processing time: 26.552266120910645\n",
      " > Real-time factor: 1.7298072113018808\n"
     ]
    },
    {
     "data": {
      "text/plain": [
       "'coqui_output.wav'"
      ]
     },
     "execution_count": 13,
     "metadata": {},
     "output_type": "execute_result"
    }
   ],
   "source": [
    "tts.tts_to_file(text=\"¡Claro, qué deseas probar hoy? Tenemos un burrito con carne de res, un arepa con queso y una torta de guayaba.\", speaker_wav=sample_audio_file, language=\"es\", file_path=\"coqui_output.wav\")"
   ]
  },
  {
   "cell_type": "markdown",
   "metadata": {},
   "source": [
    "### Let's try a real dialogue "
   ]
  },
  {
   "cell_type": "code",
   "execution_count": 19,
   "metadata": {},
   "outputs": [],
   "source": [
    "def synthesize_speech(text, speaker_wav, output_path):\n",
    "    # device = \"cuda\" if torch.cuda.is_available() else \"cpu\"\n",
    "    # tts = TTS(\"tts_models/multilingual/multi-dataset/xtts_v2\").to(device)\n",
    "    tts.tts_to_file(\n",
    "        text=text,\n",
    "        file_path=output_path,\n",
    "        speaker_wav=speaker_wav,\n",
    "        language=\"es\" if \"Maestro\" not in speaker_wav else \"en\"\n",
    "    )"
   ]
  },
  {
   "cell_type": "code",
   "execution_count": 20,
   "metadata": {},
   "outputs": [],
   "source": [
    "speaker_refs = {\n",
    "    \"Juan Pablo\": \"./data/reference_audios/medellin_sample_2.wav\",\n",
    "    \"Ana\": \"./data/reference_audios/medellin_sample_1.wav\",\n",
    "    \"Maestro\": \"./data/reference_audios/aryan_sample_1.wav\"\n",
    "}"
   ]
  },
  {
   "cell_type": "code",
   "execution_count": 24,
   "metadata": {},
   "outputs": [],
   "source": [
    "dialogue = [\n",
    "    'Juan Pablo: Hola, ¿puedes darme alguna recomendación sobre lo que ordenar?',\n",
    "    'Ana: ¡Claro, qué deseas probar hoy? Tenemos un burrito con carne de res, un arepa con queso y una torta de guayaba.',\n",
    "    'Maestro: Juan Pablo is asking for a recommendation on what to order. Ana is offering three options: a beef burrito, a cheese arepa, and a guava tart.',\n",
    "    'Juan Pablo: Eso sí, ¿cómo es el burrito con carne?',\n",
    "    'Ana: Es uno de nuestros platos más populares. Tiene carne de res, arroz, frijoles negros y salsa verde.',\n",
    "    \"Maestro: Juan Pablo wants to know about the beef burrito. Ana explains that it's one of their most popular dishes, containing beef, rice, black beans, and green sauce.\",\n",
    "    'Juan Pablo: Perfecto, lo tomaré. ¿Y si me lo traes con un refresco de piña?',\n",
    "    'Ana: Claro, nosotros también tenemos un refresco de maracuyá. ¿Te gustaría probarlo?',\n",
    "    'Juan Pablo: ¡Claro! Lo pediré, entonces.',\n",
    "    'Ana: Muy bien. ¡Gracias por elegir nuestro café!',\n",
    "    \"Maestro: Juan Pablo orders the beef burrito with a pineapple drink and also asks for a taste of the maracuyá drink. Ana confirms the order and thanks him for choosing their café.\",\n",
    "    'Ana: Aquí está tu pedido, señor Juan Pablo. Disfruta!',\n",
    "    'Juan Pablo: Muchas gracias, Ana. ¡Espero volver pronto!',\n",
    "    'Ana: Es un placer tenerte aquí, ¡vuelve siempre!',\n",
    "    'Maestro: Juan Pablo now starts eating and enjoying his order. Once he finishes, he gets up and leaves the place.'\n",
    "]"
   ]
  },
  {
   "cell_type": "code",
   "execution_count": 25,
   "metadata": {},
   "outputs": [
    {
     "name": "stdout",
     "output_type": "stream",
     "text": [
      " > Text splitted to sentences.\n",
      "['Hola, ¿puedes darme alguna recomendación sobre lo que ordenar?']\n",
      " > Processing time: 13.19713807106018\n",
      " > Real-time factor: 3.0799840650600863\n",
      " > Text splitted to sentences.\n",
      "['¡Claro, qué deseas probar hoy?', 'Tenemos un burrito con carne de res, un arepa con queso y una torta de guayaba.']\n",
      " > Processing time: 40.171984910964966\n",
      " > Real-time factor: 1.8403702116024065\n",
      " > Text splitted to sentences.\n",
      "['Juan Pablo is asking for a recommendation on what to order.', 'Ana is offering three options: a beef burrito, a cheese arepa, and a guava tart.']\n",
      " > Processing time: 23.0907199382782\n",
      " > Real-time factor: 1.8013075067892925\n",
      " > Text splitted to sentences.\n",
      "['Eso sí, ¿cómo es el burrito con carne?']\n",
      " > Processing time: 8.707942962646484\n",
      " > Real-time factor: 2.541968628552677\n",
      " > Text splitted to sentences.\n",
      "['Es uno de nuestros platos más populares.', 'Tiene carne de res, arroz, frijoles negros y salsa verde.']\n",
      " > Processing time: 19.84798574447632\n",
      " > Real-time factor: 1.8804486012722692\n",
      " > Text splitted to sentences.\n",
      "['Juan Pablo wants to know about the beef burrito.', \"Ana explains that it's one of their most popular dishes, containing beef, rice, black beans, and green sauce.\"]\n",
      " > Processing time: 23.270476579666138\n",
      " > Real-time factor: 1.988197491404364\n",
      " > Text splitted to sentences.\n",
      "['Perfecto, lo tomaré.', '¿Y si me lo traes con un refresco de piña?']\n",
      " > Processing time: 12.011497974395752\n",
      " > Real-time factor: 2.0563162293123165\n",
      " > Text splitted to sentences.\n",
      "['Claro, nosotros también tenemos un refresco de maracuyá.', '¿Te gustaría probarlo?']\n",
      " > Processing time: 59.448429107666016\n",
      " > Real-time factor: 1.8214986518742993\n",
      " > Text splitted to sentences.\n",
      "['¡Claro!', 'Lo pediré, entonces.']\n",
      " > Processing time: 10.470978021621704\n",
      " > Real-time factor: 1.87066587840905\n",
      " > Text splitted to sentences.\n",
      "['Muy bien.', '¡Gracias por elegir nuestro café!']\n",
      " > Processing time: 10.627432107925415\n",
      " > Real-time factor: 1.770114802240115\n",
      " > Text splitted to sentences.\n",
      "['Juan Pablo orders the beef burrito with a pineapple drink and also asks for a taste of the maracuyá drink.', 'Ana confirms the order and thanks him for choosing their café.']\n",
      " > Processing time: 27.576682090759277\n",
      " > Real-time factor: 1.8819508272916523\n",
      " > Text splitted to sentences.\n",
      "['Aquí está tu pedido, señor Juan Pablo.', 'Disfruta!']\n",
      " > Processing time: 14.093830823898315\n",
      " > Real-time factor: 1.9670914122123624\n",
      " > Text splitted to sentences.\n",
      "['Muchas gracias, Ana.', '¡Espero volver pronto!']\n",
      " > Processing time: 12.512957096099854\n",
      " > Real-time factor: 2.0028361205647633\n",
      " > Text splitted to sentences.\n",
      "['Es un placer tenerte aquí, ¡vuelve siempre!']\n",
      " > Processing time: 9.94137716293335\n",
      " > Real-time factor: 1.9326365358537907\n",
      " > Text splitted to sentences.\n",
      "['Juan Pablo now starts eating and enjoying his order.', 'Once he finishes, he gets up and leaves the place.']\n",
      " > Processing time: 18.039520978927612\n",
      " > Real-time factor: 1.9443700022747237\n"
     ]
    }
   ],
   "source": [
    "output_dir = \"./data/output_audios/\"\n",
    "os.makedirs(output_dir, exist_ok=True)\n",
    "\n",
    "audio_files = []\n",
    "\n",
    "for i, line in enumerate(dialogue):\n",
    "    speaker, text = line.split(\": \", 1)\n",
    "    output_path = os.path.join(output_dir, f\"line_{i+1}.wav\")\n",
    "    synthesize_speech(text, speaker_refs[speaker], output_path)\n",
    "    audio_files.append(output_path)"
   ]
  },
  {
   "cell_type": "markdown",
   "metadata": {},
   "source": [
    "### Audio Post Processing"
   ]
  },
  {
   "cell_type": "markdown",
   "metadata": {},
   "source": [
    "The current audio samples (look into output_audios line by line wav files) are still a bit noisy. Let's attempt to clean it up a bit"
   ]
  },
  {
   "cell_type": "code",
   "execution_count": 26,
   "metadata": {},
   "outputs": [],
   "source": [
    "def reduce_noise(input_path, output_path):\n",
    "    audio_data, sample_rate = librosa.load(input_path, sr=None)\n",
    "    reduced_noise = nr.reduce_noise(y=audio_data, sr=sample_rate)\n",
    "    sf.write(output_path, reduced_noise, sample_rate)"
   ]
  },
  {
   "cell_type": "code",
   "execution_count": 62,
   "metadata": {},
   "outputs": [
    {
     "name": "stdout",
     "output_type": "stream",
     "text": [
      "Processing ./data/output_audios/line_1.wav...\n",
      "Processing ./data/output_audios/line_2.wav...\n",
      "Processing ./data/output_audios/line_3.wav...\n",
      "Processing ./data/output_audios/line_4.wav...\n",
      "Processing ./data/output_audios/line_5.wav...\n",
      "Processing ./data/output_audios/line_6.wav...\n",
      "Processing ./data/output_audios/line_7.wav...\n",
      "Processing ./data/output_audios/line_8.wav...\n",
      "Processing ./data/output_audios/line_9.wav...\n",
      "Processing ./data/output_audios/line_10.wav...\n",
      "Processing ./data/output_audios/line_11.wav...\n",
      "Processing ./data/output_audios/line_12.wav...\n",
      "Processing ./data/output_audios/line_13.wav...\n",
      "Processing ./data/output_audios/line_14.wav...\n",
      "Processing ./data/output_audios/line_15.wav...\n"
     ]
    }
   ],
   "source": [
    "current_dir_audios = \"./data/output_audios/\"\n",
    "output_dir_cleaned = \"./data/output_audios_cleaned_part_1/\"\n",
    "os.makedirs(output_dir_cleaned, exist_ok=True)  \n",
    "\n",
    "for i in range(1, 16):  \n",
    "    input_file = os.path.join(current_dir_audios, f\"line_{i}.wav\")\n",
    "    output_file = os.path.join(output_dir_cleaned, f\"line_{i}_cleaned.wav\")\n",
    "    \n",
    "    if os.path.exists(input_file): \n",
    "        print(f\"Processing {input_file}...\")\n",
    "        reduce_noise(input_file, output_file)\n",
    "    else:\n",
    "        print(f\"File {input_file} does not exist!\")"
   ]
  },
  {
   "cell_type": "markdown",
   "metadata": {},
   "source": [
    "### Problematic audio"
   ]
  },
  {
   "cell_type": "markdown",
   "metadata": {},
   "source": [
    "Some audio files have this annoying background noise and weird AI voodo (like output_audios/line_2.wav). I think one way could be to use VAD to identify non-speech from speech. I started with some boilerplate code using claude "
   ]
  },
  {
   "cell_type": "code",
   "execution_count": 67,
   "metadata": {},
   "outputs": [
    {
     "name": "stdout",
     "output_type": "stream",
     "text": [
      "Processing ./data/output_audios_cleaned_part_1/line_15_cleaned.wav...\n",
      "Clean audio saved to ./data/output_audios_cleaned_part_2/line_15_cleaned_clean_voice.wav\n",
      "Processing ./data/output_audios_cleaned_part_1/line_4_cleaned.wav...\n",
      "Clean audio saved to ./data/output_audios_cleaned_part_2/line_4_cleaned_clean_voice.wav\n",
      "Processing ./data/output_audios_cleaned_part_1/line_1_cleaned.wav...\n",
      "Clean audio saved to ./data/output_audios_cleaned_part_2/line_1_cleaned_clean_voice.wav\n",
      "Processing ./data/output_audios_cleaned_part_1/line_10_cleaned.wav...\n",
      "Clean audio saved to ./data/output_audios_cleaned_part_2/line_10_cleaned_clean_voice.wav\n",
      "Processing ./data/output_audios_cleaned_part_1/line_8_cleaned.wav...\n",
      "Clean audio saved to ./data/output_audios_cleaned_part_2/line_8_cleaned_clean_voice.wav\n",
      "Processing ./data/output_audios_cleaned_part_1/line_13_cleaned.wav...\n",
      "Clean audio saved to ./data/output_audios_cleaned_part_2/line_13_cleaned_clean_voice.wav\n",
      "Processing ./data/output_audios_cleaned_part_1/line_2_cleaned.wav...\n",
      "Clean audio saved to ./data/output_audios_cleaned_part_2/line_2_cleaned_clean_voice.wav\n",
      "Processing ./data/output_audios_cleaned_part_1/line_7_cleaned.wav...\n",
      "Clean audio saved to ./data/output_audios_cleaned_part_2/line_7_cleaned_clean_voice.wav\n",
      "Processing ./data/output_audios_cleaned_part_1/line_9_cleaned.wav...\n",
      "Clean audio saved to ./data/output_audios_cleaned_part_2/line_9_cleaned_clean_voice.wav\n",
      "Processing ./data/output_audios_cleaned_part_1/line_11_cleaned.wav...\n",
      "Clean audio saved to ./data/output_audios_cleaned_part_2/line_11_cleaned_clean_voice.wav\n",
      "Processing ./data/output_audios_cleaned_part_1/line_14_cleaned.wav...\n",
      "Clean audio saved to ./data/output_audios_cleaned_part_2/line_14_cleaned_clean_voice.wav\n",
      "Processing ./data/output_audios_cleaned_part_1/line_5_cleaned.wav...\n",
      "Clean audio saved to ./data/output_audios_cleaned_part_2/line_5_cleaned_clean_voice.wav\n",
      "Processing ./data/output_audios_cleaned_part_1/line_6_cleaned.wav...\n",
      "Clean audio saved to ./data/output_audios_cleaned_part_2/line_6_cleaned_clean_voice.wav\n",
      "Processing ./data/output_audios_cleaned_part_1/line_12_cleaned.wav...\n",
      "Clean audio saved to ./data/output_audios_cleaned_part_2/line_12_cleaned_clean_voice.wav\n",
      "Processing ./data/output_audios_cleaned_part_1/line_3_cleaned.wav...\n",
      "Clean audio saved to ./data/output_audios_cleaned_part_2/line_3_cleaned_clean_voice.wav\n"
     ]
    }
   ],
   "source": [
    "import os\n",
    "import webrtcvad\n",
    "import librosa\n",
    "import numpy as np\n",
    "import soundfile as sf\n",
    "\n",
    "# Create the output directory if it doesn't exist\n",
    "output_dir = \"./data/output_audios_cleaned_part_2\"\n",
    "os.makedirs(output_dir, exist_ok=True)\n",
    "\n",
    "def identify_clean_voice(audio_path, output_dir):\n",
    "    # Load the audio file\n",
    "    audio_data, sample_rate = librosa.load(audio_path, sr=16000)  # Ensure 16 kHz sample rate\n",
    "    audio_data = librosa.util.normalize(audio_data)  # Normalize audio\n",
    "\n",
    "    # Convert to 16-bit PCM format required by webrtcvad\n",
    "    audio_pcm = (audio_data * 32768).astype(np.int16)\n",
    "\n",
    "    # Initialize WebRTC VAD\n",
    "    vad = webrtcvad.Vad()\n",
    "    vad.set_mode(3)  # Aggressive mode for detecting voice\n",
    "\n",
    "    # Splitting audio into 10 ms chunks\n",
    "    frame_size = int(sample_rate * 0.01)  # 10 ms\n",
    "    chunks = [\n",
    "        audio_pcm[i : i + frame_size]\n",
    "        for i in range(0, len(audio_pcm), frame_size)\n",
    "    ]\n",
    "\n",
    "    # Identify which chunks contain voice\n",
    "    clean_segments = []\n",
    "    for chunk in chunks:\n",
    "        if len(chunk) == frame_size and vad.is_speech(chunk.tobytes(), sample_rate):\n",
    "            clean_segments.append(chunk)\n",
    "\n",
    "    # Combine clean segments\n",
    "    if clean_segments:\n",
    "        clean_audio = np.concatenate(clean_segments, axis=0)\n",
    "    else:\n",
    "        clean_audio = np.array([], dtype=np.int16)  # Handle empty segments case\n",
    "\n",
    "    # Create the output file path\n",
    "    base_name = os.path.basename(audio_path).replace(\".wav\", \"_clean_voice.wav\")\n",
    "    output_path = os.path.join(output_dir, base_name)\n",
    "\n",
    "    # Save the clean audio\n",
    "    sf.write(output_path, clean_audio / 32768, sample_rate)  # Normalize back to [-1, 1]\n",
    "    print(f\"Clean audio saved to {output_path}\")\n",
    "\n",
    "# we will process the de-noised versions first\n",
    "input_dir = \"./data/output_audios_cleaned_part_1\"\n",
    "audio_files = [f for f in os.listdir(input_dir) if f.endswith(\".wav\")]\n",
    "\n",
    "for audio_file in audio_files:\n",
    "    input_path = os.path.join(input_dir, audio_file)\n",
    "    print(f\"Processing {input_path}...\")\n",
    "    identify_clean_voice(input_path, output_dir)\n"
   ]
  },
  {
   "cell_type": "code",
   "execution_count": 81,
   "metadata": {},
   "outputs": [
    {
     "name": "stdout",
     "output_type": "stream",
     "text": [
      "Adding ./data/output_audios_cleaned_part_2/line_1_cleaned_clean_voice.wav to the combined audio...\n",
      "Adding ./data/output_audios_cleaned_part_2/line_2_cleaned_clean_voice.wav to the combined audio...\n",
      "Adding ./data/output_audios_cleaned_part_2/line_3_cleaned_clean_voice.wav to the combined audio...\n",
      "Adding ./data/output_audios_cleaned_part_2/line_4_cleaned_clean_voice.wav to the combined audio...\n",
      "Adding ./data/output_audios_cleaned_part_2/line_5_cleaned_clean_voice.wav to the combined audio...\n",
      "Adding ./data/output_audios_cleaned_part_2/line_6_cleaned_clean_voice.wav to the combined audio...\n",
      "Adding ./data/output_audios_cleaned_part_2/line_7_cleaned_clean_voice.wav to the combined audio...\n",
      "Adding ./data/output_audios_cleaned_part_2/line_8_cleaned_clean_voice.wav to the combined audio...\n",
      "Adding ./data/output_audios_cleaned_part_2/line_9_cleaned_clean_voice.wav to the combined audio...\n",
      "Adding ./data/output_audios_cleaned_part_2/line_10_cleaned_clean_voice.wav to the combined audio...\n",
      "Adding ./data/output_audios_cleaned_part_2/line_11_cleaned_clean_voice.wav to the combined audio...\n",
      "Adding ./data/output_audios_cleaned_part_2/line_12_cleaned_clean_voice.wav to the combined audio...\n",
      "Adding ./data/output_audios_cleaned_part_2/line_13_cleaned_clean_voice.wav to the combined audio...\n",
      "Adding ./data/output_audios_cleaned_part_2/line_14_cleaned_clean_voice.wav to the combined audio...\n",
      "Adding ./data/output_audios_cleaned_part_2/line_15_cleaned_clean_voice.wav to the combined audio...\n",
      "Combined audio saved to ./data/output_audios_combined.wav\n"
     ]
    }
   ],
   "source": [
    "from pydub import AudioSegment\n",
    "import os\n",
    "import re\n",
    "\n",
    "# Directory containing the cleaned audio files\n",
    "input_dir = \"./data/output_audios_cleaned_part_2\"\n",
    "output_file = \"./data/output_audios_combined.wav\"\n",
    "\n",
    "def combine_audio_with_pauses(input_dir, output_file, pause_duration_ms=800):\n",
    "    \"\"\"\n",
    "    Combines all audio files in the input directory into one file with pauses between them.\n",
    "\n",
    "    Args:\n",
    "        input_dir (str): Directory containing cleaned audio files.\n",
    "        output_file (str): Path to save the combined audio file.\n",
    "        pause_duration_ms (int): Duration of the pause between audio files in milliseconds.\n",
    "    \"\"\"\n",
    "    # Get a list of all audio files\n",
    "    audio_files = [\n",
    "        os.path.join(input_dir, f) for f in os.listdir(input_dir) if f.endswith(\".wav\")\n",
    "    ]\n",
    "    \n",
    "    audio_files = sorted(\n",
    "        audio_files,\n",
    "        key=lambda x: int(re.search(r\"line_(\\d+)\", os.path.basename(x)).group(1))\n",
    "    )\n",
    "\n",
    "    # Create a silent segment for the pause\n",
    "    pause = AudioSegment.silent(duration=pause_duration_ms)\n",
    "\n",
    "    # Initialize an empty audio segment\n",
    "    combined_audio = AudioSegment.empty()\n",
    "\n",
    "    # Process and concatenate each audio file with a pause\n",
    "    for audio_file in audio_files:\n",
    "        print(f\"Adding {audio_file} to the combined audio...\")\n",
    "        audio_segment = AudioSegment.from_wav(audio_file)\n",
    "        combined_audio += audio_segment + pause\n",
    "\n",
    "    # Remove the final pause\n",
    "    combined_audio = combined_audio[:-pause_duration_ms]\n",
    "\n",
    "    # Export the combined audio file\n",
    "    combined_audio.export(output_file, format=\"wav\")\n",
    "    print(f\"Combined audio saved to {output_file}\")\n",
    "\n",
    "# Combine the audio files with a 500 ms pause\n",
    "combine_audio_with_pauses(input_dir, output_file, pause_duration_ms=500)\n"
   ]
  },
  {
   "cell_type": "code",
   "execution_count": 82,
   "metadata": {},
   "outputs": [
    {
     "name": "stdout",
     "output_type": "stream",
     "text": [
      "Adding ./data/output_audios_cleaned_part_2/line_1_cleaned_clean_voice.wav to the combined audio...\n",
      "Adding ./data/output_audios_cleaned_part_2/line_2_cleaned_clean_voice.wav to the combined audio...\n",
      "Adding ./data/output_audios_cleaned_part_2/line_3_cleaned_clean_voice.wav to the combined audio...\n",
      "Adding ./data/output_audios_cleaned_part_2/line_4_cleaned_clean_voice.wav to the combined audio...\n",
      "Adding ./data/output_audios_cleaned_part_2/line_5_cleaned_clean_voice.wav to the combined audio...\n",
      "Adding ./data/output_audios_cleaned_part_2/line_6_cleaned_clean_voice.wav to the combined audio...\n",
      "Adding ./data/output_audios_cleaned_part_2/line_7_cleaned_clean_voice.wav to the combined audio...\n",
      "Adding ./data/output_audios_cleaned_part_2/line_8_cleaned_clean_voice.wav to the combined audio...\n",
      "Adding ./data/output_audios_cleaned_part_2/line_9_cleaned_clean_voice.wav to the combined audio...\n",
      "Adding ./data/output_audios_cleaned_part_2/line_10_cleaned_clean_voice.wav to the combined audio...\n",
      "Adding ./data/output_audios_cleaned_part_2/line_11_cleaned_clean_voice.wav to the combined audio...\n",
      "Adding ./data/output_audios_cleaned_part_2/line_12_cleaned_clean_voice.wav to the combined audio...\n",
      "Adding ./data/output_audios_cleaned_part_2/line_13_cleaned_clean_voice.wav to the combined audio...\n",
      "Adding ./data/output_audios_cleaned_part_2/line_14_cleaned_clean_voice.wav to the combined audio...\n",
      "Adding ./data/output_audios_cleaned_part_2/line_15_cleaned_clean_voice.wav to the combined audio...\n",
      "Combined audio saved to ./data/output_audios_combined.wav\n"
     ]
    }
   ],
   "source": [
    "# Combine the audio files with a 500 ms pause\n",
    "combine_audio_with_pauses(input_dir, output_file, pause_duration_ms=500)"
   ]
  },
  {
   "cell_type": "code",
   "execution_count": null,
   "metadata": {},
   "outputs": [],
   "source": []
  }
 ],
 "metadata": {
  "kernelspec": {
   "display_name": ".venv",
   "language": "python",
   "name": "python3"
  },
  "language_info": {
   "codemirror_mode": {
    "name": "ipython",
    "version": 3
   },
   "file_extension": ".py",
   "mimetype": "text/x-python",
   "name": "python",
   "nbconvert_exporter": "python",
   "pygments_lexer": "ipython3",
   "version": "3.9.6"
  }
 },
 "nbformat": 4,
 "nbformat_minor": 2
}
