{
 "cells": [
  {
   "cell_type": "code",
   "execution_count": 7,
   "metadata": {},
   "outputs": [
    {
     "name": "stdout",
     "output_type": "stream",
     "text": [
      "Audio content written to file \"output.mp3\"\n"
     ]
    }
   ],
   "source": [
    "from google.cloud import texttospeech\n",
    "\n",
    "def synthesize_speech(text, output_filename):\n",
    "    \"\"\"\n",
    "    Synthesizes speech from the input string of text or SSML.\n",
    "    Make sure to be working in a virtual environment.\n",
    "\n",
    "    Note: SSML must be well-formed according to:\n",
    "    https://www.w3.org/TR/speech-synthesis/\n",
    "    \"\"\"\n",
    "    # Instantiates a client\n",
    "    client = texttospeech.TextToSpeechClient()\n",
    "\n",
    "    # Set the text input to be synthesized\n",
    "    synthesis_input = texttospeech.SynthesisInput(text=text)\n",
    "\n",
    "    # Build the voice request, select the language code and the voice name\n",
    "    voice = texttospeech.VoiceSelectionParams(\n",
    "        language_code=\"es-ES\",  # Language code\n",
    "        name=\"es-ES-Neural2-A\",  # Voice name\n",
    "        ssml_gender=texttospeech.SsmlVoiceGender.FEMALE\n",
    "    )\n",
    "\n",
    "    # Select the type of audio file you want returned\n",
    "    audio_config = texttospeech.AudioConfig(\n",
    "        audio_encoding=texttospeech.AudioEncoding.MP3\n",
    "    )\n",
    "\n",
    "    # Perform the text-to-speech request\n",
    "    response = client.synthesize_speech(\n",
    "        input=synthesis_input, voice=voice, audio_config=audio_config\n",
    "    )\n",
    "\n",
    "    # The response's audio_content is binary.\n",
    "    with open(output_filename, \"wb\") as out:\n",
    "        # Write the response to the output file.\n",
    "        out.write(response.audio_content)\n",
    "        print(f'Audio content written to file \"{output_filename}\"')\n",
    "\n",
    "# Example usage\n",
    "synthesize_speech(\n",
    "    text=\"Hola, ¿puedes darme alguna recomendación sobre lo que ordenar?\",\n",
    "    output_filename=\"output.mp3\"\n",
    ")\n"
   ]
  },
  {
   "cell_type": "code",
   "execution_count": 2,
   "metadata": {},
   "outputs": [],
   "source": [
    "def list_voices():\n",
    "    \"\"\"Lists the available voices.\"\"\"\n",
    "    from google.cloud import texttospeech\n",
    "\n",
    "    client = texttospeech.TextToSpeechClient()\n",
    "\n",
    "    # Performs the list voices request\n",
    "    voices = client.list_voices()\n",
    "\n",
    "    for voice in voices.voices:\n",
    "        # Display the voice's name. Example: tpc-vocoded\n",
    "        print(f\"Name: {voice.name}\")\n",
    "\n",
    "        # Display the supported language codes for this voice. Example: \"en-US\"\n",
    "        for language_code in voice.language_codes:\n",
    "            print(f\"Supported language: {language_code}\")\n",
    "\n",
    "        ssml_gender = texttospeech.SsmlVoiceGender(voice.ssml_gender)\n",
    "\n",
    "        # Display the SSML Voice Gender\n",
    "        print(f\"SSML Voice Gender: {ssml_gender.name}\")\n",
    "\n",
    "        # Display the natural sample rate hertz for this voice. Example: 24000\n",
    "        print(f\"Natural Sample Rate Hertz: {voice.natural_sample_rate_hertz}\\n\")\n"
   ]
  },
  {
   "cell_type": "code",
   "execution_count": null,
   "metadata": {},
   "outputs": [],
   "source": []
  }
 ],
 "metadata": {
  "kernelspec": {
   "display_name": ".venv",
   "language": "python",
   "name": "python3"
  },
  "language_info": {
   "codemirror_mode": {
    "name": "ipython",
    "version": 3
   },
   "file_extension": ".py",
   "mimetype": "text/x-python",
   "name": "python",
   "nbconvert_exporter": "python",
   "pygments_lexer": "ipython3",
   "version": "3.9.6"
  }
 },
 "nbformat": 4,
 "nbformat_minor": 2
}
