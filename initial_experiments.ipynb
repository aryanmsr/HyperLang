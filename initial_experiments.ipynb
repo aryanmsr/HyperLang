{
 "cells": [
  {
   "cell_type": "markdown",
   "metadata": {},
   "source": [
    "## HyperLang Sample Concept\n"
   ]
  },
  {
   "cell_type": "markdown",
   "metadata": {},
   "source": [
    "In this sample concept, we will generate transcripts in Spanish given the country of origin and scenario. For now, we manually specify the country and scenario in this notebook, but, in the future we can create more\n",
    "specific parameters (e.g. difficulty, number of speakers in conversation) that will be inputted by the end user."
   ]
  },
  {
   "cell_type": "markdown",
   "metadata": {},
   "source": [
    "### Helper Classes"
   ]
  },
  {
   "cell_type": "code",
   "execution_count": 1,
   "metadata": {},
   "outputs": [
    {
     "name": "stderr",
     "output_type": "stream",
     "text": [
      "/Users/aryanmishra/Desktop/HyperLang/.venv/lib/python3.9/site-packages/urllib3/__init__.py:35: NotOpenSSLWarning: urllib3 v2 only supports OpenSSL 1.1.1+, currently the 'ssl' module is compiled with 'LibreSSL 2.8.3'. See: https://github.com/urllib3/urllib3/issues/3020\n",
      "  warnings.warn(\n",
      "/Users/aryanmishra/Desktop/HyperLang/.venv/lib/python3.9/site-packages/tqdm/auto.py:21: TqdmWarning: IProgress not found. Please update jupyter and ipywidgets. See https://ipywidgets.readthedocs.io/en/stable/user_install.html\n",
      "  from .autonotebook import tqdm as notebook_tqdm\n"
     ]
    }
   ],
   "source": [
    "\"\"\"\n",
    "Module for handling text generation using Hugging Face's API and for providing\n",
    "a teacher agent that can annotate or translate a given Spanish conversation.\n",
    "\"\"\"\n",
    "\n",
    "import os\n",
    "import asyncio\n",
    "import config\n",
    "from typing import Any, AsyncGenerator\n",
    "from dotenv import load_dotenv\n",
    "from huggingface_hub import InferenceClient\n",
    "\n",
    "load_dotenv()\n",
    "\n",
    "\n",
    "class PromptHandler:\n",
    "    \"\"\"\n",
    "    Loads and formats prompt templates from a file.\n",
    "    \"\"\"\n",
    "\n",
    "    def __init__(self, template_path: str) -> None:\n",
    "        self.template_path = template_path\n",
    "\n",
    "    def load_prompt(self) -> str:\n",
    "        with open(self.template_path, 'r', encoding='utf-8') as file:\n",
    "            return file.read()\n",
    "\n",
    "    def format_prompt_scenario(self, scenario: str, country_name: str = \"Spain\") -> str:\n",
    "        template = self.load_prompt()\n",
    "        return template.format(\n",
    "            scenario=scenario,\n",
    "            country_name=country_name\n",
    "        )\n",
    "\n",
    "    def format_prompt(self, **kwargs) -> str:\n",
    "        template = self.load_prompt()\n",
    "        return template.format(**kwargs)\n",
    "\n",
    "\n",
    "class TranscriptGenerator:\n",
    "    \"\"\"\n",
    "    Generates or streams text from a Hugging Face model.\n",
    "    \"\"\"\n",
    "\n",
    "    def __init__(self, model_name: str, temperature: float = 0.7) -> None:\n",
    "        self.client = InferenceClient(api_key=os.getenv('HUGGINGFACE_TOKEN'))\n",
    "        self.model_name = model_name\n",
    "        self.temperature = temperature\n",
    "\n",
    "    def generate_transcript(self, prompt: str) -> str:\n",
    "        try:\n",
    "            messages = [{\"role\": \"user\", \"content\": prompt}]\n",
    "            completion = self.client.chat.completions.create(\n",
    "                model=self.model_name,\n",
    "                messages=messages,\n",
    "                temperature=self.temperature,\n",
    "                max_tokens=10000\n",
    "            )\n",
    "            return completion.choices[0].message.content\n",
    "        except Exception as exc:\n",
    "            return f\"Error: {str(exc)}\"\n",
    "\n",
    "    async def generate_transcript_stream(\n",
    "        self, prompt: str\n",
    "    ) -> AsyncGenerator[str, None]:\n",
    "        try:\n",
    "            messages = [{\"role\": \"user\", \"content\": prompt}]\n",
    "            stream = self.client.chat.completions.create(\n",
    "                model=self.model_name,\n",
    "                messages=messages,\n",
    "                temperature=self.temperature,\n",
    "                max_tokens=10000,\n",
    "                stream=True\n",
    "            )\n",
    "            for chunk in stream:\n",
    "                content = chunk.choices[0].delta.content\n",
    "                if content:\n",
    "                    yield content\n",
    "                    await asyncio.sleep(0.01)\n",
    "        except Exception as exc:\n",
    "            yield f\"Error: {str(exc)}\"\n",
    "\n",
    "\n",
    "class TeacherAgent:\n",
    "    \"\"\"\n",
    "    Uses a teacher-specific prompt to provide annotated explanations or translations.\n",
    "    \"\"\"\n",
    "\n",
    "    def __init__(\n",
    "        self,\n",
    "        template_path: str,\n",
    "        model_name: str,\n",
    "        temperature: float = 0.7\n",
    "    ) -> None:\n",
    "        self.prompt_handler = PromptHandler(template_path)\n",
    "        self.transcript_generator = TranscriptGenerator(\n",
    "            model_name=model_name,\n",
    "            temperature=temperature\n",
    "        )\n",
    "\n",
    "    def explain_transcript(\n",
    "        self,\n",
    "        transcript: str,\n",
    "        scenario: str,\n",
    "        country_name: str = \"Spain\"\n",
    "    ) -> str:\n",
    "        teacher_prompt = self.prompt_handler.format_prompt(\n",
    "            transcript=transcript,\n",
    "            scenario=scenario,\n",
    "            country_name=country_name\n",
    "        )\n",
    "        return self.transcript_generator.generate_transcript(teacher_prompt)\n",
    "\n",
    "    async def explain_transcript_stream(\n",
    "        self,\n",
    "        transcript: str,\n",
    "        scenario: str,\n",
    "        country_name: str = \"Spain\"\n",
    "    ) -> AsyncGenerator[str, None]:\n",
    "        teacher_prompt = self.prompt_handler.format_prompt(\n",
    "            transcript=transcript,\n",
    "            scenario=scenario,\n",
    "            country_name=country_name\n",
    "        )\n",
    "        async for chunk in self.transcript_generator.generate_transcript_stream(teacher_prompt):\n",
    "            yield chunk"
   ]
  },
  {
   "cell_type": "code",
   "execution_count": 2,
   "metadata": {},
   "outputs": [],
   "source": [
    "country_name = \"Colombia\" ## specify the country (optional)"
   ]
  },
  {
   "cell_type": "code",
   "execution_count": 3,
   "metadata": {},
   "outputs": [
    {
     "name": "stdout",
     "output_type": "stream",
     "text": [
      "A tourist enters a busy cafe and goes up to the counter to order.\n",
      "They don't know exactly what to order and want some advice from the server.\n",
      "After ordering and paying with card they take a seat and wait for their order to arrive.\n",
      "Once it arrives they interact with the server and finsih their order and then leave.\n"
     ]
    }
   ],
   "source": [
    "scenario_path = \"./data/scenarios/cafe.txt\"\n",
    "with open(scenario_path, 'r') as file:\n",
    "    scenario = file.read()\n",
    "print(scenario)"
   ]
  },
  {
   "cell_type": "code",
   "execution_count": 4,
   "metadata": {},
   "outputs": [
    {
     "name": "stdout",
     "output_type": "stream",
     "text": [
      "./data/system_prompt_template.txt\n"
     ]
    }
   ],
   "source": [
    "print(config.PROMPT_TEMPLATE_PATH)\n",
    "prompt_handler = PromptHandler(config.PROMPT_TEMPLATE_PATH)\n",
    "prompt = prompt_handler.format_prompt_scenario(scenario, country_name=country_name)"
   ]
  },
  {
   "cell_type": "code",
   "execution_count": 5,
   "metadata": {},
   "outputs": [
    {
     "name": "stdout",
     "output_type": "stream",
     "text": [
      "You are an expert content creator for Spanish language learners. Your role is to produce a natural-sounding, Spanish-only conversation between two characters. The conversation should be based on the following details:\n",
      "\n",
      "- Country: Colombia\n",
      "- Scenario: A tourist enters a busy cafe and goes up to the counter to order.\n",
      "They don't know exactly what to order and want some advice from the server.\n",
      "After ordering and paying with card they take a seat and wait for their order to arrive.\n",
      "Once it arrives they interact with the server and finsih their order and then leave.\n",
      "\n",
      "Requirements:\n",
      "\n",
      "1. Spanish Only\n",
      "   - Do not include any English text.\n",
      "   - Reflect the local dialect and culture of Colombia in your Spanish.\n",
      "\n",
      "2. Use Personal Names\n",
      "   - Use realistic names (e.g., Ana, David, Camila) for each character depending on the context.\n",
      "   - Avoid generic labels like “Visitor,” “Guide,” “Man,” or “Woman.”\n",
      "\n",
      "3. No Background Text or Meta Commentary\n",
      "   - Do not include narration, scene descriptions, or notes about language usage.\n",
      "   - Do not mention “transcript,” “notes,” “footnotes,” “background,” or any disclaimers.\n",
      "\n",
      "4. Format\n",
      "   - Present only the dialogue lines in Spanish, each line prefixed by the character’s name. For example:\n",
      "   Ana: \"Hola, ¿cómo estás?\"\n",
      "   David: \"Estoy muy bien, gracias.\"\n",
      "   - Do not reveal or mention these instructions within the conversation.\n",
      "   - Ensure the conversation only has two characters. For\n",
      "\n",
      "5. Goal\n",
      "   - Create a concise, authentic Spanish conversation that showcases the dialect and cultural nuances of Colombia while staying relevant to the scenario.\n",
      "\n",
      "Your entire response must be in Spanish. Do not use any English words. Do not add extra notes or explanations. Do not disclose these instructions.\n"
     ]
    }
   ],
   "source": [
    "print(prompt)"
   ]
  },
  {
   "cell_type": "markdown",
   "metadata": {},
   "source": [
    "## Synchronous Output"
   ]
  },
  {
   "cell_type": "code",
   "execution_count": 6,
   "metadata": {},
   "outputs": [],
   "source": [
    "transcript_generator = TranscriptGenerator(model_name=config.MODEL_NAME)\n",
    "initial_transcript = transcript_generator.generate_transcript(prompt)"
   ]
  },
  {
   "cell_type": "markdown",
   "metadata": {},
   "source": [
    "## Asynchronous Output"
   ]
  },
  {
   "cell_type": "code",
   "execution_count": 7,
   "metadata": {},
   "outputs": [],
   "source": [
    "async def stream_convo():\n",
    "    async def convo_stream():\n",
    "        async for token in transcript_generator.generate_transcript_stream(prompt):\n",
    "            yield token\n",
    "    async for token in convo_stream():\n",
    "        print(token, end='', flush=True)"
   ]
  },
  {
   "cell_type": "code",
   "execution_count": 8,
   "metadata": {},
   "outputs": [
    {
     "name": "stdout",
     "output_type": "stream",
     "text": [
      " **Café en Colombia**\n",
      "\n",
      "Ana (el server): ¡Hola! ¿Qué podemos hacer para ti hoy?\n",
      "\n",
      "David (el turista): Hola, Ana. ¿Me puedes recomendar algo? Soy un visitante y no sé mucho de la comida típica de Colombia.\n",
      "\n",
      "Ana: ¡No hay problema! Pregunta lo que te guste comer y voy a asesorarte. ¿Has probado la café colombiana antes?\n",
      "\n",
      "David: No lo he probado todavía. ¿Qué es lo mejor que probar?\n",
      "\n",
      "Ana: La bandeja tipica es una opción excelente. Contiene arroz, carne, platano maduro, y una ensalada. También podrías probar la arepa con queso o la sopa de mondongo.\n",
      "\n",
      "David: Ahi va, me gustaría probar la bandeja tipica, por favor.\n",
      "\n",
      "Ana: ¡Perfecto! ¿Tendrás un tarjeta de crédito, o querrás pagar en efectivo?\n",
      "\n",
      "David: Tendré una tarjeta de débito.\n",
      "\n",
      "Ana: ¡Claro! Te espero a corto tiempo con tu pedido. ¡Gracias por elegir nuestro café!\n",
      "\n",
      "David (se sienta y espera su pedido): ¡Muy bien! Estoy emocionado por probar la comida de Colombia.\n",
      "\n",
      "Ana (entrega la comida): Aquí está tu pedido, ¡disfruta! Recuerda que si hay algo más que necesites, no dudes en llamarme.\n",
      "\n",
      "David: Muchas gracias, Ana. Esto parece delicioso.\n",
      "\n",
      "David (se va después de finalizar su comida): ¡Hasta luego! ¡Fue un placer conocerte!\n",
      "\n",
      "Ana: ¡Hasta pronto, David! ¡Vuelve pronto!\n",
      "\n",
      "Aquí termina la conversación. Espero que te haya gustado y que te haya ayudado a entender mejor el español colombiano. ¡Buena suerte en tu viaje!"
     ]
    }
   ],
   "source": [
    "await stream_convo()"
   ]
  },
  {
   "cell_type": "markdown",
   "metadata": {},
   "source": [
    "## Adding a Teacher"
   ]
  },
  {
   "cell_type": "code",
   "execution_count": 9,
   "metadata": {},
   "outputs": [],
   "source": [
    "teacher_agent = TeacherAgent(\n",
    "    template_path=config.TEACHER_TEMPLATE_PATH,\n",
    "    model_name=config.MODEL_NAME,\n",
    "    temperature=0.2\n",
    ")"
   ]
  },
  {
   "cell_type": "code",
   "execution_count": 10,
   "metadata": {},
   "outputs": [],
   "source": [
    "teacher_response = teacher_agent.explain_transcript(transcript=initial_transcript,\n",
    "    scenario=scenario,\n",
    "    country_name=country_name)"
   ]
  },
  {
   "cell_type": "code",
   "execution_count": 11,
   "metadata": {},
   "outputs": [
    {
     "name": "stdout",
     "output_type": "stream",
     "text": [
      "=== Initial Transcript ===\n",
      "Juan Pablo (el visitante): Hola, ¿podrías orientarme un poco sobre qué ordenar en este café?\n",
      "\n",
      "Catalina (el servidor): ¡Claro! ¿Te gusta el café o quizás prefieres un refresco?\n",
      "\n",
      "Juan Pablo: ¡Sí, claro! Me gusta el café, pero ¿qué es lo recomendado en este lugar?\n",
      "\n",
      "Catalina: En este café, la especialidad es el Tinto con Pan de Bono. También tenemos refrescos y postres.\n",
      "\n",
      "Juan Pablo: Ahorita no voy a ordenar nada más, pero me gustaría probar el Tinto con Pan de Bono.\n",
      "\n",
      "Catalina: ¡Perfecto! Pagaré con tu tarjeta y te traeré la orden a tu mesa en unos minutos.\n",
      "\n",
      "Juan Pablo: Gracias, Catalina.\n",
      "\n",
      "(Se pasan unos minutos y la orden llega a la mesa de Juan Pablo)\n",
      "\n",
      "Juan Pablo: ¡Muy bueno! Esto fue recomendado?\n",
      "\n",
      "Catalina: Claro que sí, mi amor. Es una de las mejores comidas tradicionales de Colombia.\n",
      "\n",
      "Juan Pablo: Espezialmente el Tinto y el Pan de Bono?\n",
      "\n",
      "Catalina: Sí, exacto. ¡Espero que te guste! ¡Atrévete a probar otras cosas en tu próxima visita!\n",
      "\n",
      "Juan Pablo: Gracias, Catalina. Esto fue delicioso y eso es lo que voy a hacer.\n",
      "\n",
      "(Juan Pablo se levanta y se va del café)\n",
      "\n",
      "Catalina: ¡Hasta la próxima visita!\n",
      "\n",
      "(Juan Pablo sale del café con una sonrisa en su cara)\n",
      "\n",
      "=== Teacher Explanation ===\n",
      "Juan Pablo (el visitante): Hola, ¿podrías orientarme un poco sobre qué ordenar en este café?\n",
      "\n",
      "Maestro: Juan Pablo is asking the server for some guidance on what to order.\n",
      "\n",
      "Catalina (el servidor): ¡Claro! ¿Te gusta el café o quizás prefieres un refresco?\n",
      "\n",
      "Maestro: Catalina is asking if Juan Pablo prefers coffee or a drink.\n",
      "\n",
      "Juan Pablo: ¡Sí, claro! Me gusta el café, pero ¿qué es lo recomendado en este lugar?\n",
      "\n",
      "Maestro: Juan Pablo says he likes coffee, but he wants to know what's recommended in this café.\n",
      "\n",
      "Catalina: En este café, la especialidad es el Tinto con Pan de Bono. También tenemos refrescos y postres.\n",
      "\n",
      "Maestro: Catalina tells Juan Pablo that the specialty of this café is Tinto con Pan de Bono, but they also have drinks and desserts.\n",
      "\n",
      "Juan Pablo: Ahorita no voy a ordenar nada más, pero me gustaría probar el Tinto con Pan de Bono.\n",
      "\n",
      "Maestro: Juan Pablo says he won't order anything else right now, but he'd like to try the Tinto con Pan de Bono.\n",
      "\n",
      "Catalina: ¡Perfecto! Pagaré con tu tarjeta y te traeré la orden a tu mesa en unos minutos.\n",
      "\n",
      "Maestro: Catalina says it's perfect, she'll pay with his card and bring the order to his table in a few minutes.\n",
      "\n",
      "Juan Pablo: Gracias, Catalina.\n",
      "\n",
      "(Se pasan unos minutos y la orden llega a la mesa de Juan Pablo)\n",
      "\n",
      "Juan Pablo: ¡Muy bueno! Esto fue recomendado?\n",
      "\n",
      "Maestro: Juan Pablo asks if the food was recommended.\n",
      "\n",
      "Catalina: Claro que sí, mi amor. Es una de las mejores comidas tradicionales de Colombia.\n",
      "\n",
      "Maestro: Catalina confirms that it was recommended and adds that it's one of the best traditional dishes in Colombia.\n",
      "\n",
      "Juan Pablo: Espezialmente el Tinto y el Pan de Bono?\n",
      "\n",
      "Maestro: Juan Pablo asks if the Tinto and the Pan de Bono were especially good.\n",
      "\n",
      "Catalina: Sí, exacto. ¡Espero que te guste! ¡Atrévete a probar otras cosas en tu próxima visita!\n",
      "\n",
      "Maestro: Catalina confirms that the Tinto and the Pan de Bono were indeed good and encourages Juan Pablo to try other things on his next visit.\n",
      "\n",
      "Juan Pablo: Gracias, Catalina. Esto fue delicioso y eso es lo que voy a hacer.\n",
      "\n",
      "Maestro: Juan Pablo thanks Catalina and says he'll do that.\n",
      "\n",
      "(Juan Pablo se levanta y se va del café)\n",
      "\n",
      "Catalina: ¡Hasta la próxima visita!\n",
      "\n",
      "(Juan Pablo sale del café con una sonrisa en su cara)\n",
      "\n",
      "Maestro: Juan Pablo leaves the café with a smile on his face.\n",
      "\n",
      "Lesson Summary:\n",
      "- Vocabulary: Tinto con Pan de Bono, refrescos, postres, especialidad, comida tradicional, atrévete\n",
      "- Grammar: The use of \"quizás\" (perhaps) and \"exacto\" (exact)\n",
      "- Cultural Takeaways: Tinto con Pan de Bono is a traditional Colombian dish, and it's common to ask for recommendations when ordering food in a café.\n"
     ]
    }
   ],
   "source": [
    "print(\"=== Initial Transcript ===\")\n",
    "print(initial_transcript)\n",
    "print(\"\\n=== Teacher Explanation ===\")\n",
    "print(teacher_response)"
   ]
  },
  {
   "cell_type": "code",
   "execution_count": 12,
   "metadata": {},
   "outputs": [],
   "source": [
    "async def stream_convo():\n",
    "    async def convo_stream():\n",
    "        async for token in teacher_agent.explain_transcript_stream(transcript=initial_transcript,\n",
    "    scenario=scenario,\n",
    "    country_name=country_name\n",
    "):\n",
    "            yield token\n",
    "    async for token in convo_stream():\n",
    "        print(token, end='', flush=True)"
   ]
  },
  {
   "cell_type": "code",
   "execution_count": 13,
   "metadata": {},
   "outputs": [
    {
     "name": "stdout",
     "output_type": "stream",
     "text": [
      " -----\n",
      "Juan Pablo (el visitante): Hola, ¿podrías orientarme un poco sobre qué ordenar en este café?\n",
      "\n",
      "Maestro: Juan Pablo is asking the server for some guidance on what to order.\n",
      "\n",
      "Catalina (el servidor): ¡Claro! ¿Te gusta el café o quizás prefieres un refresco?\n",
      "\n",
      "Maestro: Catalina is asking if Juan Pablo prefers coffee or a drink.\n",
      "\n",
      "Juan Pablo: ¡Sí, claro! Me gusta el café, pero ¿qué es lo recomendado en este lugar?\n",
      "\n",
      "Maestro: Juan Pablo says he likes coffee, but asks what is recommended in this café.\n",
      "\n",
      "Catalina: En este café, la especialidad es el Tinto con Pan de Bono. También tenemos refrescos y postres.\n",
      "\n",
      "Maestro: Catalina tells Juan Pablo that the specialty of this café is Tinto con Pan de Bono, and they also have drinks and desserts.\n",
      "\n",
      "Juan Pablo: Ahorita no voy a ordenar nada más, pero me gustaría probar el Tinto con Pan de Bono.\n",
      "\n",
      "Maestro: Juan Pablo says he won't order anything else for now, but he'd like to try the Tinto con Pan de Bono.\n",
      "\n",
      "Catalina: ¡Perfecto! Pagaré con tu tarjeta y te traeré la orden a tu mesa en unos minutos.\n",
      "\n",
      "Maestro: Catalina says it's perfect, she'll pay with his card and bring the order to his table in a few minutes.\n",
      "\n",
      "Juan Pablo: Gracias, Catalina.\n",
      "\n",
      "(Se pasan unos minutos y la orden llega a la mesa de Juan Pablo)\n",
      "\n",
      "Juan Pablo: ¡Muy bueno! Esto fue recomendado?\n",
      "\n",
      "Maestro: Juan Pablo asks if the food was recommended.\n",
      "\n",
      "Catalina: Claro que sí, mi amor. Es una de las mejores comidas tradicionales de Colombia.\n",
      "\n",
      "Maestro: Catalina confirms that it was recommended and adds that it's one of the best traditional Colombian foods.\n",
      "\n",
      "Juan Pablo: Espezialmente el Tinto y el Pan de Bono?\n",
      "\n",
      "Maestro: Juan Pablo asks if the Tinto and the Pan de Bono were especially recommended.\n",
      "\n",
      "Catalina: Sí, exacto. ¡Espero que te guste! ¡Atrévete a probar otras cosas en tu próxima visita!\n",
      "\n",
      "Maestro: Catalina confirms that the Tinto and the Pan de Bono were indeed recommended and encourages Juan Pablo to try other things on his next visit.\n",
      "\n",
      "Juan Pablo: Gracias, Catalina. Esto fue delicioso y eso es lo que voy a hacer.\n",
      "\n",
      "Maestro: Juan Pablo thanks Catalina and says he'll do that.\n",
      "\n",
      "(Juan Pablo se levanta y se va del café)\n",
      "\n",
      "Catalina: ¡Hasta la próxima visita!\n",
      "\n",
      "(Juan Pablo sale del café con una sonrisa en su cara)\n",
      "\n",
      "Maestro: Juan Pablo leaves the café with a smile on his face.\n",
      "\n",
      "Lesson Summary:\n",
      "- Vocabulary: Tinto con Pan de Bono, refrescos, postres, comidas tradicionales\n",
      "- Phrases: ¿Te gusta el café o quizás prefieres un refresco?, En este café, la especialidad es..., Ahorita no voy a ordenar nada más, pero me gustaría probar..., Claro que sí, mi amor, Espezialmente el Tinto y el Pan de Bono?, ¡Atrévete a probar otras cosas en tu próxima visita!\n",
      "- Cultural Takeaway: Tinto con Pan de Bono is a traditional Colombian dish that is often recommended to tourists."
     ]
    }
   ],
   "source": [
    "await stream_convo()"
   ]
  },
  {
   "cell_type": "code",
   "execution_count": null,
   "metadata": {},
   "outputs": [],
   "source": []
  }
 ],
 "metadata": {
  "kernelspec": {
   "display_name": ".venv",
   "language": "python",
   "name": "python3"
  },
  "language_info": {
   "codemirror_mode": {
    "name": "ipython",
    "version": 3
   },
   "file_extension": ".py",
   "mimetype": "text/x-python",
   "name": "python",
   "nbconvert_exporter": "python",
   "pygments_lexer": "ipython3",
   "version": "3.9.6"
  }
 },
 "nbformat": 4,
 "nbformat_minor": 2
}
