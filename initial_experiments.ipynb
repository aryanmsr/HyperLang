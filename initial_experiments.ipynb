{
 "cells": [
  {
   "cell_type": "markdown",
   "metadata": {},
   "source": [
    "## HyperLang Sample Concept\n"
   ]
  },
  {
   "cell_type": "markdown",
   "metadata": {},
   "source": [
    "In this sample concept, we will generate transcripts in Spanish given the country of origin and scenario. For now, we manually specify the country and scenario in this notebook, but, in the future we can create more\n",
    "specific parameters (e.g. difficulty, number of speakers in conversation) that will be inputted by the end user."
   ]
  },
  {
   "cell_type": "markdown",
   "metadata": {},
   "source": [
    "### Helper Classes"
   ]
  },
  {
   "cell_type": "code",
   "execution_count": 18,
   "metadata": {},
   "outputs": [],
   "source": [
    "\"\"\"\n",
    "Module for handling text generation using Hugging Face's API and for providing\n",
    "a teacher agent that can annotate or translate a given Spanish conversation.\n",
    "\"\"\"\n",
    "\n",
    "import os\n",
    "import asyncio\n",
    "import config\n",
    "from typing import Any, AsyncGenerator\n",
    "from dotenv import load_dotenv\n",
    "from huggingface_hub import InferenceClient\n",
    "\n",
    "load_dotenv()\n",
    "\n",
    "\n",
    "class PromptHandler:\n",
    "    \"\"\"\n",
    "    Loads and formats prompt templates from a file.\n",
    "    \"\"\"\n",
    "\n",
    "    def __init__(self, template_path: str) -> None:\n",
    "        self.template_path = template_path\n",
    "\n",
    "    def load_prompt(self) -> str:\n",
    "        with open(self.template_path, 'r', encoding='utf-8') as file:\n",
    "            return file.read()\n",
    "\n",
    "    def format_prompt_scenario(self, scenario: str, country_name: str = \"Spain\") -> str:\n",
    "        template = self.load_prompt()\n",
    "        return template.format(\n",
    "            scenario=scenario,\n",
    "            country_name=country_name\n",
    "        )\n",
    "\n",
    "    def format_prompt(self, **kwargs) -> str:\n",
    "        template = self.load_prompt()\n",
    "        return template.format(**kwargs)\n",
    "\n",
    "\n",
    "class TranscriptGenerator:\n",
    "    \"\"\"\n",
    "    Generates or streams text from a Hugging Face model.\n",
    "    \"\"\"\n",
    "\n",
    "    def __init__(self, model_name: str, temperature: float = 0.7) -> None:\n",
    "        self.client = InferenceClient(api_key=os.getenv('HUGGINGFACE_TOKEN'))\n",
    "        self.model_name = model_name\n",
    "        self.temperature = temperature\n",
    "\n",
    "    def generate_transcript(self, prompt: str) -> str:\n",
    "        try:\n",
    "            messages = [{\"role\": \"user\", \"content\": prompt}]\n",
    "            completion = self.client.chat.completions.create(\n",
    "                model=self.model_name,\n",
    "                messages=messages,\n",
    "                temperature=self.temperature,\n",
    "                max_tokens=10000\n",
    "            )\n",
    "            return completion.choices[0].message.content\n",
    "        except Exception as exc:\n",
    "            return f\"Error: {str(exc)}\"\n",
    "\n",
    "    async def generate_transcript_stream(\n",
    "        self, prompt: str\n",
    "    ) -> AsyncGenerator[str, None]:\n",
    "        try:\n",
    "            messages = [{\"role\": \"user\", \"content\": prompt}]\n",
    "            stream = self.client.chat.completions.create(\n",
    "                model=self.model_name,\n",
    "                messages=messages,\n",
    "                temperature=self.temperature,\n",
    "                max_tokens=10000,\n",
    "                stream=True\n",
    "            )\n",
    "            for chunk in stream:\n",
    "                content = chunk.choices[0].delta.content\n",
    "                if content:\n",
    "                    yield content\n",
    "                    await asyncio.sleep(0.01)\n",
    "        except Exception as exc:\n",
    "            yield f\"Error: {str(exc)}\"\n",
    "\n",
    "\n",
    "class TeacherAgent:\n",
    "    \"\"\"\n",
    "    Uses a teacher-specific prompt to provide annotated explanations or translations.\n",
    "    \"\"\"\n",
    "\n",
    "    def __init__(\n",
    "        self,\n",
    "        template_path: str,\n",
    "        model_name: str,\n",
    "        temperature: float = 0.7\n",
    "    ) -> None:\n",
    "        self.prompt_handler = PromptHandler(template_path)\n",
    "        self.transcript_generator = TranscriptGenerator(\n",
    "            model_name=model_name,\n",
    "            temperature=temperature\n",
    "        )\n",
    "\n",
    "    def explain_transcript(\n",
    "        self,\n",
    "        transcript: str,\n",
    "        scenario: str,\n",
    "        country_name: str = \"Spain\"\n",
    "    ) -> str:\n",
    "        teacher_prompt = self.prompt_handler.format_prompt(\n",
    "            transcript=transcript,\n",
    "            scenario=scenario,\n",
    "            country_name=country_name\n",
    "        )\n",
    "        return self.transcript_generator.generate_transcript(teacher_prompt)\n",
    "\n",
    "    async def explain_transcript_stream(\n",
    "        self,\n",
    "        transcript: str,\n",
    "        scenario: str,\n",
    "        country_name: str = \"Spain\"\n",
    "    ) -> AsyncGenerator[str, None]:\n",
    "        teacher_prompt = self.prompt_handler.format_prompt(\n",
    "            transcript=transcript,\n",
    "            scenario=scenario,\n",
    "            country_name=country_name\n",
    "        )\n",
    "        async for chunk in self.transcript_generator.generate_transcript_stream(teacher_prompt):\n",
    "            yield chunk"
   ]
  },
  {
   "cell_type": "code",
   "execution_count": 19,
   "metadata": {},
   "outputs": [],
   "source": [
    "country_name = \"Colombia\" ## specify the country (optional)"
   ]
  },
  {
   "cell_type": "code",
   "execution_count": 20,
   "metadata": {},
   "outputs": [
    {
     "name": "stdout",
     "output_type": "stream",
     "text": [
      "A tourist enters a busy cafe and goes up to the counter to order.\n",
      "They don't know exactly what to order and want some advice from the server.\n",
      "After ordering and paying with card they take a seat and wait for their order to arrive.\n",
      "Once it arrives they interact with the server and finsih their order and then leave.\n"
     ]
    }
   ],
   "source": [
    "scenario_path = \"./data/scenarios/cafe.txt\"\n",
    "with open(scenario_path, 'r') as file:\n",
    "    scenario = file.read()\n",
    "print(scenario)"
   ]
  },
  {
   "cell_type": "code",
   "execution_count": 21,
   "metadata": {},
   "outputs": [
    {
     "name": "stdout",
     "output_type": "stream",
     "text": [
      "./data/system_prompt_template.txt\n"
     ]
    }
   ],
   "source": [
    "print(config.PROMPT_TEMPLATE_PATH)\n",
    "prompt_handler = PromptHandler(config.PROMPT_TEMPLATE_PATH)\n",
    "prompt = prompt_handler.format_prompt_scenario(scenario, country_name=country_name)"
   ]
  },
  {
   "cell_type": "code",
   "execution_count": 22,
   "metadata": {},
   "outputs": [
    {
     "name": "stdout",
     "output_type": "stream",
     "text": [
      "You are an expert content creator for Spanish language learners. Your role is to produce a natural-sounding, Spanish-only conversation between two characters. The conversation should be based on the following details:\n",
      "\n",
      "- Country: Colombia\n",
      "- Scenario: A tourist enters a busy cafe and goes up to the counter to order.\n",
      "They don't know exactly what to order and want some advice from the server.\n",
      "After ordering and paying with card they take a seat and wait for their order to arrive.\n",
      "Once it arrives they interact with the server and finsih their order and then leave.\n",
      "\n",
      "Requirements:\n",
      "\n",
      "1. Spanish Only\n",
      "   - Do not include any English text.\n",
      "   - Reflect the local dialect and culture of Colombia in your Spanish.\n",
      "\n",
      "2. Use Personal Names\n",
      "   - Use realistic names (e.g., Ana, David, Camila) for each character depending on the context.\n",
      "   - Avoid generic labels like “Visitor,” “Guide,” “Man,” or “Woman.”\n",
      "\n",
      "3. No Background Text or Meta Commentary\n",
      "   - Do not include narration, scene descriptions, or notes about language usage.\n",
      "   - Do not mention “transcript,” “notes,” “footnotes,” “background,” or any disclaimers.\n",
      "\n",
      "4. Format\n",
      "   - Present only the dialogue lines in Spanish, each line prefixed by the character’s name. For example:\n",
      "   Ana: \"Hola, ¿cómo estás?\"\n",
      "   David: \"Estoy muy bien, gracias.\"\n",
      "   - Do not reveal or mention these instructions within the conversation.\n",
      "   - Ensure the conversation only has two characters. For\n",
      "\n",
      "5. Goal\n",
      "   - Create a concise, authentic Spanish conversation that showcases the dialect and cultural nuances of Colombia while staying relevant to the scenario.\n",
      "\n",
      "Your entire response must be in Spanish. Do not use any English words. Do not add extra notes or explanations. Do not disclose these instructions.\n"
     ]
    }
   ],
   "source": [
    "print(prompt)"
   ]
  },
  {
   "cell_type": "markdown",
   "metadata": {},
   "source": [
    "## Synchronous Output"
   ]
  },
  {
   "cell_type": "code",
   "execution_count": 23,
   "metadata": {},
   "outputs": [],
   "source": [
    "transcript_generator = TranscriptGenerator(model_name=config.MODEL_NAME)\n",
    "initial_transcript = transcript_generator.generate_transcript(prompt)"
   ]
  },
  {
   "cell_type": "markdown",
   "metadata": {},
   "source": [
    "## Asynchronous Output"
   ]
  },
  {
   "cell_type": "code",
   "execution_count": 24,
   "metadata": {},
   "outputs": [],
   "source": [
    "async def stream_convo():\n",
    "    async def convo_stream():\n",
    "        async for token in transcript_generator.generate_transcript_stream(prompt):\n",
    "            yield token\n",
    "    async for token in convo_stream():\n",
    "        print(token, end='', flush=True)"
   ]
  },
  {
   "cell_type": "code",
   "execution_count": 25,
   "metadata": {},
   "outputs": [
    {
     "name": "stdout",
     "output_type": "stream",
     "text": [
      " Carlos (el barista): ¡Hola! ¿Qué podemos hacer por ti hoy?\n",
      "\n",
      "Juan (el turista): Hola, ¿tienes alguna recomendación para un desayuno? No conozco mucho la comida aquí.\n",
      "\n",
      "Carlos: ¡Claro! Siempre me alegra ayudar a los visitantes. ¿Te gustan los arepas? Son una delicia típica de Colombia.\n",
      "\n",
      "Juan: ¡Por supuesto! ¿Y qué puedo acompañarlas?\n",
      "\n",
      "Carlos: Puedes elegir entre el café, el jugo de frutas o un zumo de tamarindo.\n",
      "\n",
      "Juan: ¡Entiendo! ¿Yo puedo ordenar un café con leche y una arepa con queso, por favor.\n",
      "\n",
      "Carlos: ¡Claro, señor! ¿Puedes pagar con tarjeta de crédito?\n",
      "\n",
      "Juan: Sí, ¡claro!\n",
      "\n",
      "Carlos: ¡Gracias por su compra! Su orden estará lista pronto.\n",
      "\n",
      "(Juan se sienta en una mesa y espera su orden)\n",
      "\n",
      "Carlos (entregando la orden): Aquí está tu desayuno, señor. ¡Disfruta!\n",
      "\n",
      "Juan: ¡Muchísimas gracias! ¿Tienes alguna otra recomendación para hoy?\n",
      "\n",
      "Carlos: ¡Sí, claro! Podrías probar nuestros postres típicos, como el buñuelo o el arequipe.\n",
      "\n",
      "Juan: ¡Gracias por la sugerencia! ¡Hasta pronto!\n",
      "\n",
      "Carlos: ¡Hasta luego, señor! ¡Vuelva pronto!\n",
      "\n",
      "(Juan se va después de terminar su desayuno)"
     ]
    }
   ],
   "source": [
    "await stream_convo()"
   ]
  },
  {
   "cell_type": "markdown",
   "metadata": {},
   "source": [
    "## Adding a Teacher"
   ]
  },
  {
   "cell_type": "code",
   "execution_count": 26,
   "metadata": {},
   "outputs": [],
   "source": [
    "teacher_agent = TeacherAgent(\n",
    "    template_path=config.TEACHER_TEMPLATE_PATH,\n",
    "    model_name=config.MODEL_NAME,\n",
    "    temperature=0.2\n",
    ")"
   ]
  },
  {
   "cell_type": "code",
   "execution_count": 27,
   "metadata": {},
   "outputs": [],
   "source": [
    "teacher_response = teacher_agent.explain_transcript(transcript=initial_transcript,\n",
    "    scenario=scenario,\n",
    "    country_name=country_name)"
   ]
  },
  {
   "cell_type": "code",
   "execution_count": 28,
   "metadata": {},
   "outputs": [
    {
     "name": "stdout",
     "output_type": "stream",
     "text": [
      "=== Initial Transcript ===\n",
      "Juan Pablo (el turista): Hola, ¿puedes darme alguna recomendación sobre lo que ordenar?\n",
      "\n",
      "Ana (el waitress): ¡Claro, qué deseas probar hoy? Tenemos un burrito con carne de res, un arepa con queso y una torta de guayaba.\n",
      "\n",
      "Juan Pablo: Eso sí, ¿cómo es el burrito con carne?\n",
      "\n",
      "Ana: Es uno de nuestros platos más populares. Tiene carne de res, arroz, frijoles negros y salsa verde.\n",
      "\n",
      "Juan Pablo: Perfecto, lo tomaré. ¿Y si me lo traes con un refresco de piña?\n",
      "\n",
      "Ana: Claro, nosotros también tenemos un refresco de maracuyá. ¿Te gustaría probarlo?\n",
      "\n",
      "Juan Pablo: ¡Claro! Lo pediré, entonces.\n",
      "\n",
      "Ana: Muy bien. ¡Gracias por elegir nuestro café!\n",
      "\n",
      "[Juan Pablo paga con su tarjeta de crédito y se sienta a esperar su pedido.]\n",
      "\n",
      "Ana (el waitress): Aquí está tu pedido, señor Juan Pablo. Disfruta!\n",
      "\n",
      "Juan Pablo (el turista): Muchas gracias, Ana. ¡Espero volver pronto!\n",
      "\n",
      "Ana (el waitress): Es un placer tenerte aquí, ¡vuelve siempre!\n",
      "\n",
      "[Juan Pablo comienza a comer y disfrutar su pedido. Una vez que termina, se levanta y se va del lugar.]\n",
      "\n",
      "=== Teacher Explanation ===\n",
      "-----\n",
      "Juan Pablo (the tourist): Hola, ¿puedes darme alguna recomendación sobre lo que ordenar?\n",
      "\n",
      "Ana (the waitress): ¡Claro, qué deseas probar hoy? Tenemos un burrito con carne de res, un arepa con queso y una torta de guayaba.\n",
      "\n",
      "**Maestro**: Juan Pablo is asking Ana for a recommendation on what to order. Ana is offering three options: a beef burrito, a cheese arepa, and a guava tart.\n",
      "\n",
      "Juan Pablo: Eso sí, ¿cómo es el burrito con carne?\n",
      "\n",
      "Ana: Es uno de nuestros platos más populares. Tiene carne de res, arroz, frijoles negros y salsa verde.\n",
      "\n",
      "**Maestro**: Juan Pablo wants to know more about the beef burrito. Ana explains that it's one of their most popular dishes, containing beef, rice, black beans, and green sauce.\n",
      "\n",
      "Juan Pablo: Perfecto, lo tomaré. ¿Y si me lo traes con un refresco de piña?\n",
      "\n",
      "Ana: Claro, nosotros también tenemos un refresco de maracuyá. ¿Te gustaría probarlo?\n",
      "\n",
      "Juan Pablo: ¡Claro! Lo pediré, entonces.\n",
      "\n",
      "Ana: Muy bien. ¡Gracias por elegir nuestro café!\n",
      "\n",
      "**Maestro**: Juan Pablo orders the beef burrito with a pineapple drink and also asks for a taste of the maracuyá drink. Ana thanks him for choosing their café.\n",
      "\n",
      "[Juan Pablo pays with his credit card and sits down to wait for his order.]\n",
      "\n",
      "Ana (the waitress): Aquí está tu pedido, señor Juan Pablo. Disfruta!\n",
      "\n",
      "Juan Pablo (the tourist): Muchas gracias, Ana. ¡Espero volver pronto!\n",
      "\n",
      "Ana (the waitress): Es un placer tenerte aquí, ¡vuelve siempre!\n",
      "\n",
      "[Juan Pablo starts eating and enjoying his order. Once he finishes, he gets up and leaves the place.]\n",
      "\n",
      "**Maestro**: Notice how Juan Pablo uses the formal \"usted\" form when addressing Ana, as she is older and in a service role. He thanks her and expresses his hope to return soon. Ana welcomes him back.\n",
      "\n",
      "**Lesson Summary**:\n",
      "- Vocabulary: burrito, arepa, torta, carne de res, arroz, frijoles negros, salsa verde, refresco de piña, maracuyá\n",
      "- Phrases: ¿puedes darme alguna recomendación? (Can you give me some advice?), ¿cómo es el...? (What's the... like?), ¡Claro! (Of course!), ¡Gracias por elegir nuestro café! (Thanks for choosing our café!), Es un placer tenerte aquí (It's a pleasure to have you here), ¡vuelve siempre! (Come back again!)\n",
      "- Cultural Nuance: Using the formal \"usted\" form when addressing someone older or in a service role.\n"
     ]
    }
   ],
   "source": [
    "print(\"=== Initial Transcript ===\")\n",
    "print(initial_transcript)\n",
    "print(\"\\n=== Teacher Explanation ===\")\n",
    "print(teacher_response)"
   ]
  },
  {
   "cell_type": "code",
   "execution_count": 29,
   "metadata": {},
   "outputs": [],
   "source": [
    "async def stream_convo():\n",
    "    async def convo_stream():\n",
    "        async for token in teacher_agent.explain_transcript_stream(transcript=initial_transcript,\n",
    "    scenario=scenario,\n",
    "    country_name=country_name\n",
    "):\n",
    "            yield token\n",
    "    async for token in convo_stream():\n",
    "        print(token, end='', flush=True)"
   ]
  },
  {
   "cell_type": "code",
   "execution_count": 30,
   "metadata": {},
   "outputs": [
    {
     "name": "stdout",
     "output_type": "stream",
     "text": [
      " -----\n",
      "Juan Pablo (the tourist): Hola, ¿puedes darme alguna recomendación sobre lo que ordenar?\n",
      "\n",
      "Ana (the waitress): ¡Claro, qué deseas probar hoy? Tenemos un burrito con carne de res, un arepa con queso y una torta de guayaba.\n",
      "\n",
      "**Maestro**: Juan Pablo is asking for a recommendation on what to order. Ana is offering three options: a beef burrito, a cheese arepa, and a guava tart.\n",
      "\n",
      "Juan Pablo: Eso sí, ¿cómo es el burrito con carne?\n",
      "\n",
      "Ana: Es uno de nuestros platos más populares. Tiene carne de res, arroz, frijoles negros y salsa verde.\n",
      "\n",
      "**Maestro**: Juan Pablo wants to know about the beef burrito. Ana explains that it's one of their most popular dishes, containing beef, rice, black beans, and green sauce.\n",
      "\n",
      "Juan Pablo: Perfecto, lo tomaré. ¿Y si me lo traes con un refresco de piña?\n",
      "\n",
      "Ana: Claro, nosotros también tenemos un refresco de maracuyá. ¿Te gustaría probarlo?\n",
      "\n",
      "Juan Pablo: ¡Claro! Lo pediré, entonces.\n",
      "\n",
      "Ana: Muy bien. ¡Gracias por elegir nuestro café!\n",
      "\n",
      "**Maestro**: Juan Pablo orders the beef burrito with a pineapple drink and also asks for a taste of the maracuyá drink. Ana confirms the order and thanks him for choosing their café.\n",
      "\n",
      "[Juan Pablo pays with his credit card and sits down to wait for his order.]\n",
      "\n",
      "Ana (the waitress): Aquí está tu pedido, señor Juan Pablo. Disfruta!\n",
      "\n",
      "Juan Pablo (the tourist): Muchas gracias, Ana. ¡Espero volver pronto!\n",
      "\n",
      "Ana (the waitress): Es un placer tenerte aquí, ¡vuelve siempre!\n",
      "\n",
      "[Juan Pablo starts eating and enjoying his order. Once he finishes, he gets up and leaves the place.]\n",
      "\n",
      "**Lesson Summary:**\n",
      "- Vocabulary: burrito, arepa, torta, carne de res, arroz, frijoles negros, salsa verde, refresco, maracuyá, esperar, disfrutar, volver, placer.\n",
      "- Phrases: ¿puedes darme alguna recomendación? (Can you give me some recommendations?), ¿cómo es el ...? (What's the ... like?), Lo tomaré (I'll take it), ¿Y si me lo traes con ...? (Can I also have ... with it?), Muchas gracias (Thank you very much), Es un placer tenerte aquí (It's a pleasure to have you here).\n",
      "- Cultural Nuances: In Colombia, it's common to ask for recommendations when ordering food in a restaurant or café. It's also common to ask for a taste of different drinks.\n",
      "- Grammar: The use of the present tense to describe the menu items and the present subjunctive with the verb \"traer\" (to bring) when asking for something to be included in the order."
     ]
    }
   ],
   "source": [
    "await stream_convo()"
   ]
  },
  {
   "cell_type": "code",
   "execution_count": null,
   "metadata": {},
   "outputs": [],
   "source": []
  }
 ],
 "metadata": {
  "kernelspec": {
   "display_name": ".venv",
   "language": "python",
   "name": "python3"
  },
  "language_info": {
   "codemirror_mode": {
    "name": "ipython",
    "version": 3
   },
   "file_extension": ".py",
   "mimetype": "text/x-python",
   "name": "python",
   "nbconvert_exporter": "python",
   "pygments_lexer": "ipython3",
   "version": "3.9.6"
  }
 },
 "nbformat": 4,
 "nbformat_minor": 2
}
